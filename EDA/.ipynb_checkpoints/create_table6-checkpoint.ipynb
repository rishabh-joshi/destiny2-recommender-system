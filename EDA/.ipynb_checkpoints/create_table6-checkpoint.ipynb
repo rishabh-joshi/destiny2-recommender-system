{
 "cells": [
  {
   "cell_type": "markdown",
   "metadata": {},
   "source": [
    "## Creating Table 6\n",
    "\n",
    "### Table 6 (Match ID, Date, Time)"
   ]
  },
  {
   "cell_type": "markdown",
   "metadata": {},
   "source": [
    "### Loading libraries and data"
   ]
  },
  {
   "cell_type": "code",
   "execution_count": 7,
   "metadata": {
    "collapsed": true
   },
   "outputs": [],
   "source": [
    "import json\n",
    "import pandas as pd\n",
    "import re\n",
    "data = open(\"../data/PGCR_graph_dataset0.json\")\n",
    "data = json.load(data)\n",
    "data_copy = data"
   ]
  },
  {
   "cell_type": "markdown",
   "metadata": {},
   "source": [
    "### Exploration"
   ]
  },
  {
   "cell_type": "code",
   "execution_count": 4,
   "metadata": {},
   "outputs": [
    {
     "data": {
      "text/plain": [
       "'1464059692'"
      ]
     },
     "execution_count": 4,
     "metadata": {},
     "output_type": "execute_result"
    }
   ],
   "source": [
    "# match ID\n",
    "data[0][0][\"Response\"][\"activityDetails\"][\"instanceId\"]"
   ]
  },
  {
   "cell_type": "code",
   "execution_count": 13,
   "metadata": {},
   "outputs": [
    {
     "name": "stdout",
     "output_type": "stream",
     "text": [
      "2018-02-03T17:58:49Z\n",
      "['2018-02-03', '17:58:49']\n"
     ]
    }
   ],
   "source": [
    "# Time Stamp\n",
    "print(data[0][0][\"Response\"][\"period\"])\n",
    "print(re.split(\"T|Z\", data[0][0][\"Response\"][\"period\"])[:2])"
   ]
  },
  {
   "cell_type": "markdown",
   "metadata": {},
   "source": [
    "## Match IDs"
   ]
  },
  {
   "cell_type": "code",
   "execution_count": 14,
   "metadata": {
    "collapsed": true
   },
   "outputs": [],
   "source": [
    "MatchIDs = [game_info[\"Response\"][\"activityDetails\"][\"instanceId\"] for game_set in data for game_info in game_set if game_info[\"ErrorCode\"] == 1]"
   ]
  },
  {
   "cell_type": "code",
   "execution_count": 17,
   "metadata": {},
   "outputs": [
    {
     "name": "stdout",
     "output_type": "stream",
     "text": [
      "23547\n",
      "['1464059692', '1464033979', '1464007124', '1463974712', '1463949433', '1463900221', '1463871731', '1460179191', '1460159758', '1460139868']\n"
     ]
    }
   ],
   "source": [
    "print(len(MatchIDs))\n",
    "print(MatchIDs[:10])"
   ]
  },
  {
   "cell_type": "markdown",
   "metadata": {},
   "source": [
    "## Time Stamp"
   ]
  },
  {
   "cell_type": "code",
   "execution_count": 18,
   "metadata": {
    "collapsed": true
   },
   "outputs": [],
   "source": [
    "TimeStamp = [game_info[\"Response\"][\"period\"] for game_set in data for game_info in game_set if game_info[\"ErrorCode\"] == 1]"
   ]
  },
  {
   "cell_type": "code",
   "execution_count": 19,
   "metadata": {},
   "outputs": [
    {
     "name": "stdout",
     "output_type": "stream",
     "text": [
      "23547\n",
      "['2018-02-03T17:58:49Z', '2018-02-03T17:48:07Z', '2018-02-03T17:37:21Z', '2018-02-03T17:23:28Z', '2018-02-03T17:13:43Z', '2018-02-03T16:52:41Z', '2018-02-03T16:41:52Z', '2018-02-02T01:19:12Z', '2018-02-02T01:08:28Z', '2018-02-02T00:57:50Z']\n"
     ]
    }
   ],
   "source": [
    "print(len(TimeStamp))\n",
    "print(TimeStamp[:10])"
   ]
  },
  {
   "cell_type": "markdown",
   "metadata": {},
   "source": [
    "### Date"
   ]
  },
  {
   "cell_type": "code",
   "execution_count": 20,
   "metadata": {
    "collapsed": true
   },
   "outputs": [],
   "source": [
    "Date = [re.split(\"T|Z\", ts)[0] for ts in TimeStamp]"
   ]
  },
  {
   "cell_type": "code",
   "execution_count": 21,
   "metadata": {},
   "outputs": [
    {
     "name": "stdout",
     "output_type": "stream",
     "text": [
      "23547\n",
      "['2018-02-03', '2018-02-03', '2018-02-03', '2018-02-03', '2018-02-03', '2018-02-03', '2018-02-03', '2018-02-02', '2018-02-02', '2018-02-02']\n"
     ]
    }
   ],
   "source": [
    "print(len(Date))\n",
    "print(Date[:10])"
   ]
  },
  {
   "cell_type": "markdown",
   "metadata": {},
   "source": [
    "### Time"
   ]
  },
  {
   "cell_type": "code",
   "execution_count": 22,
   "metadata": {
    "collapsed": true
   },
   "outputs": [],
   "source": [
    "Time = [re.split(\"T|Z\", ts)[1] for ts in TimeStamp]"
   ]
  },
  {
   "cell_type": "code",
   "execution_count": 23,
   "metadata": {},
   "outputs": [
    {
     "name": "stdout",
     "output_type": "stream",
     "text": [
      "23547\n",
      "['17:58:49', '17:48:07', '17:37:21', '17:23:28', '17:13:43', '16:52:41', '16:41:52', '01:19:12', '01:08:28', '00:57:50']\n"
     ]
    }
   ],
   "source": [
    "print(len(Time))\n",
    "print(Time[:10])"
   ]
  },
  {
   "cell_type": "markdown",
   "metadata": {},
   "source": [
    "## Combining into data frame and writing to csv"
   ]
  },
  {
   "cell_type": "code",
   "execution_count": 24,
   "metadata": {},
   "outputs": [
    {
     "data": {
      "text/html": [
       "<div>\n",
       "<style scoped>\n",
       "    .dataframe tbody tr th:only-of-type {\n",
       "        vertical-align: middle;\n",
       "    }\n",
       "\n",
       "    .dataframe tbody tr th {\n",
       "        vertical-align: top;\n",
       "    }\n",
       "\n",
       "    .dataframe thead th {\n",
       "        text-align: right;\n",
       "    }\n",
       "</style>\n",
       "<table border=\"1\" class=\"dataframe\">\n",
       "  <thead>\n",
       "    <tr style=\"text-align: right;\">\n",
       "      <th></th>\n",
       "      <th>Date</th>\n",
       "      <th>MatchID</th>\n",
       "      <th>Time</th>\n",
       "    </tr>\n",
       "  </thead>\n",
       "  <tbody>\n",
       "    <tr>\n",
       "      <th>0</th>\n",
       "      <td>2018-02-03</td>\n",
       "      <td>1464059692</td>\n",
       "      <td>17:58:49</td>\n",
       "    </tr>\n",
       "    <tr>\n",
       "      <th>1</th>\n",
       "      <td>2018-02-03</td>\n",
       "      <td>1464033979</td>\n",
       "      <td>17:48:07</td>\n",
       "    </tr>\n",
       "    <tr>\n",
       "      <th>2</th>\n",
       "      <td>2018-02-03</td>\n",
       "      <td>1464007124</td>\n",
       "      <td>17:37:21</td>\n",
       "    </tr>\n",
       "    <tr>\n",
       "      <th>3</th>\n",
       "      <td>2018-02-03</td>\n",
       "      <td>1463974712</td>\n",
       "      <td>17:23:28</td>\n",
       "    </tr>\n",
       "    <tr>\n",
       "      <th>4</th>\n",
       "      <td>2018-02-03</td>\n",
       "      <td>1463949433</td>\n",
       "      <td>17:13:43</td>\n",
       "    </tr>\n",
       "  </tbody>\n",
       "</table>\n",
       "</div>"
      ],
      "text/plain": [
       "         Date     MatchID      Time\n",
       "0  2018-02-03  1464059692  17:58:49\n",
       "1  2018-02-03  1464033979  17:48:07\n",
       "2  2018-02-03  1464007124  17:37:21\n",
       "3  2018-02-03  1463974712  17:23:28\n",
       "4  2018-02-03  1463949433  17:13:43"
      ]
     },
     "execution_count": 24,
     "metadata": {},
     "output_type": "execute_result"
    }
   ],
   "source": [
    "T6 = pd.DataFrame({\"MatchID\" : MatchIDs, \"Date\" : Date, \"Time\" : Time})\n",
    "T6.head()"
   ]
  },
  {
   "cell_type": "code",
   "execution_count": 26,
   "metadata": {},
   "outputs": [
    {
     "name": "stdout",
     "output_type": "stream",
     "text": [
      "(23547, 3)\n"
     ]
    }
   ],
   "source": [
    "print(T6.shape)\n",
    "T6.to_csv(\"data_table/table6.csv\", index = False)"
   ]
  },
  {
   "cell_type": "markdown",
   "metadata": {},
   "source": [
    "# Creating Table 6 from all the files\n",
    "\n",
    "Reading all 50 json files"
   ]
  },
  {
   "cell_type": "code",
   "execution_count": 1,
   "metadata": {
    "collapsed": true
   },
   "outputs": [],
   "source": [
    "import json\n",
    "import pandas as pd\n",
    "import re"
   ]
  },
  {
   "cell_type": "code",
   "execution_count": 2,
   "metadata": {
    "collapsed": true
   },
   "outputs": [],
   "source": [
    "file_names = [\"../data/PGCR_graph_dataset\" + str(i) + \".json\" for i in range(1,51)]"
   ]
  },
  {
   "cell_type": "code",
   "execution_count": 3,
   "metadata": {},
   "outputs": [
    {
     "name": "stdout",
     "output_type": "stream",
     "text": [
      "Completed: ../data/PGCR_graph_dataset1.json MatchIDs len: 21753 Date len: 21753 Time len: 21753\n",
      "Completed: ../data/PGCR_graph_dataset2.json MatchIDs len: 43269 Date len: 43269 Time len: 43269\n",
      "Completed: ../data/PGCR_graph_dataset3.json MatchIDs len: 64521 Date len: 64521 Time len: 64521\n",
      "Completed: ../data/PGCR_graph_dataset4.json MatchIDs len: 86151 Date len: 86151 Time len: 86151\n",
      "Completed: ../data/PGCR_graph_dataset5.json MatchIDs len: 107499 Date len: 107499 Time len: 107499\n",
      "Completed: ../data/PGCR_graph_dataset6.json MatchIDs len: 129271 Date len: 129271 Time len: 129271\n",
      "Completed: ../data/PGCR_graph_dataset7.json MatchIDs len: 150639 Date len: 150639 Time len: 150639\n",
      "Completed: ../data/PGCR_graph_dataset8.json MatchIDs len: 172059 Date len: 172059 Time len: 172059\n",
      "Completed: ../data/PGCR_graph_dataset9.json MatchIDs len: 193737 Date len: 193737 Time len: 193737\n",
      "Completed: ../data/PGCR_graph_dataset10.json MatchIDs len: 215472 Date len: 215472 Time len: 215472\n",
      "Completed: ../data/PGCR_graph_dataset11.json MatchIDs len: 236852 Date len: 236852 Time len: 236852\n",
      "Completed: ../data/PGCR_graph_dataset12.json MatchIDs len: 258412 Date len: 258412 Time len: 258412\n",
      "Completed: ../data/PGCR_graph_dataset13.json MatchIDs len: 280368 Date len: 280368 Time len: 280368\n",
      "Completed: ../data/PGCR_graph_dataset14.json MatchIDs len: 302151 Date len: 302151 Time len: 302151\n",
      "Completed: ../data/PGCR_graph_dataset15.json MatchIDs len: 323682 Date len: 323682 Time len: 323682\n",
      "Completed: ../data/PGCR_graph_dataset16.json MatchIDs len: 345286 Date len: 345286 Time len: 345286\n",
      "Completed: ../data/PGCR_graph_dataset17.json MatchIDs len: 367019 Date len: 367019 Time len: 367019\n",
      "Completed: ../data/PGCR_graph_dataset18.json MatchIDs len: 388509 Date len: 388509 Time len: 388509\n",
      "Completed: ../data/PGCR_graph_dataset19.json MatchIDs len: 410182 Date len: 410182 Time len: 410182\n",
      "Completed: ../data/PGCR_graph_dataset20.json MatchIDs len: 432022 Date len: 432022 Time len: 432022\n",
      "Completed: ../data/PGCR_graph_dataset21.json MatchIDs len: 453454 Date len: 453454 Time len: 453454\n",
      "Completed: ../data/PGCR_graph_dataset22.json MatchIDs len: 475269 Date len: 475269 Time len: 475269\n",
      "Completed: ../data/PGCR_graph_dataset23.json MatchIDs len: 496933 Date len: 496933 Time len: 496933\n",
      "Completed: ../data/PGCR_graph_dataset24.json MatchIDs len: 518119 Date len: 518119 Time len: 518119\n",
      "Completed: ../data/PGCR_graph_dataset25.json MatchIDs len: 539710 Date len: 539710 Time len: 539710\n",
      "Completed: ../data/PGCR_graph_dataset26.json MatchIDs len: 561188 Date len: 561188 Time len: 561188\n",
      "Completed: ../data/PGCR_graph_dataset27.json MatchIDs len: 582689 Date len: 582689 Time len: 582689\n",
      "Completed: ../data/PGCR_graph_dataset28.json MatchIDs len: 603983 Date len: 603983 Time len: 603983\n",
      "Completed: ../data/PGCR_graph_dataset29.json MatchIDs len: 625827 Date len: 625827 Time len: 625827\n",
      "Completed: ../data/PGCR_graph_dataset30.json MatchIDs len: 647554 Date len: 647554 Time len: 647554\n",
      "Completed: ../data/PGCR_graph_dataset31.json MatchIDs len: 669369 Date len: 669369 Time len: 669369\n",
      "Completed: ../data/PGCR_graph_dataset32.json MatchIDs len: 691226 Date len: 691226 Time len: 691226\n",
      "Completed: ../data/PGCR_graph_dataset33.json MatchIDs len: 713057 Date len: 713057 Time len: 713057\n",
      "Completed: ../data/PGCR_graph_dataset34.json MatchIDs len: 734505 Date len: 734505 Time len: 734505\n",
      "Completed: ../data/PGCR_graph_dataset35.json MatchIDs len: 756286 Date len: 756286 Time len: 756286\n",
      "Completed: ../data/PGCR_graph_dataset36.json MatchIDs len: 777872 Date len: 777872 Time len: 777872\n",
      "Completed: ../data/PGCR_graph_dataset37.json MatchIDs len: 799731 Date len: 799731 Time len: 799731\n",
      "Completed: ../data/PGCR_graph_dataset38.json MatchIDs len: 821263 Date len: 821263 Time len: 821263\n",
      "Completed: ../data/PGCR_graph_dataset39.json MatchIDs len: 842946 Date len: 842946 Time len: 842946\n",
      "Completed: ../data/PGCR_graph_dataset40.json MatchIDs len: 864566 Date len: 864566 Time len: 864566\n",
      "Completed: ../data/PGCR_graph_dataset41.json MatchIDs len: 886093 Date len: 886093 Time len: 886093\n",
      "Completed: ../data/PGCR_graph_dataset42.json MatchIDs len: 907572 Date len: 907572 Time len: 907572\n",
      "Completed: ../data/PGCR_graph_dataset43.json MatchIDs len: 929035 Date len: 929035 Time len: 929035\n",
      "Completed: ../data/PGCR_graph_dataset44.json MatchIDs len: 950800 Date len: 950800 Time len: 950800\n",
      "Completed: ../data/PGCR_graph_dataset45.json MatchIDs len: 972597 Date len: 972597 Time len: 972597\n",
      "Completed: ../data/PGCR_graph_dataset46.json MatchIDs len: 994035 Date len: 994035 Time len: 994035\n",
      "Completed: ../data/PGCR_graph_dataset47.json MatchIDs len: 1015206 Date len: 1015206 Time len: 1015206\n",
      "Completed: ../data/PGCR_graph_dataset48.json MatchIDs len: 1036790 Date len: 1036790 Time len: 1036790\n",
      "Completed: ../data/PGCR_graph_dataset49.json MatchIDs len: 1058887 Date len: 1058887 Time len: 1058887\n",
      "Completed: ../data/PGCR_graph_dataset50.json MatchIDs len: 1079938 Date len: 1079938 Time len: 1079938\n"
     ]
    }
   ],
   "source": [
    "MatchIDs = []\n",
    "Date = []\n",
    "Time = []\n",
    "for filename in file_names:\n",
    "    data = json.load(open(filename))\n",
    "    MatchIDs.extend([game_info[\"Response\"][\"activityDetails\"][\"instanceId\"] for game_set in data for game_info in game_set if game_info[\"ErrorCode\"] == 1])\n",
    "    TimeStamp = [game_info[\"Response\"][\"period\"] for game_set in data for game_info in game_set if game_info[\"ErrorCode\"] == 1]\n",
    "    Date.extend([re.split(\"T|Z\", ts)[0] for ts in TimeStamp])\n",
    "    Time.extend([re.split(\"T|Z\", ts)[1] for ts in TimeStamp])\n",
    "    print(\"Completed:\", filename, \"MatchIDs len:\", len(MatchIDs), \"Date len:\", len(Date), \"Time len:\", len(Time))\n",
    "    del data"
   ]
  },
  {
   "cell_type": "code",
   "execution_count": 4,
   "metadata": {},
   "outputs": [
    {
     "data": {
      "text/html": [
       "<div>\n",
       "<style scoped>\n",
       "    .dataframe tbody tr th:only-of-type {\n",
       "        vertical-align: middle;\n",
       "    }\n",
       "\n",
       "    .dataframe tbody tr th {\n",
       "        vertical-align: top;\n",
       "    }\n",
       "\n",
       "    .dataframe thead th {\n",
       "        text-align: right;\n",
       "    }\n",
       "</style>\n",
       "<table border=\"1\" class=\"dataframe\">\n",
       "  <thead>\n",
       "    <tr style=\"text-align: right;\">\n",
       "      <th></th>\n",
       "      <th>Date</th>\n",
       "      <th>MatchID</th>\n",
       "      <th>Time</th>\n",
       "    </tr>\n",
       "  </thead>\n",
       "  <tbody>\n",
       "    <tr>\n",
       "      <th>0</th>\n",
       "      <td>2017-09-23</td>\n",
       "      <td>465852274</td>\n",
       "      <td>04:53:37</td>\n",
       "    </tr>\n",
       "    <tr>\n",
       "      <th>1</th>\n",
       "      <td>2017-09-13</td>\n",
       "      <td>241332275</td>\n",
       "      <td>03:34:06</td>\n",
       "    </tr>\n",
       "    <tr>\n",
       "      <th>2</th>\n",
       "      <td>2017-09-13</td>\n",
       "      <td>240819742</td>\n",
       "      <td>02:50:22</td>\n",
       "    </tr>\n",
       "    <tr>\n",
       "      <th>3</th>\n",
       "      <td>2017-11-22</td>\n",
       "      <td>1064084769</td>\n",
       "      <td>02:17:28</td>\n",
       "    </tr>\n",
       "    <tr>\n",
       "      <th>4</th>\n",
       "      <td>2017-10-28</td>\n",
       "      <td>883454716</td>\n",
       "      <td>14:45:51</td>\n",
       "    </tr>\n",
       "  </tbody>\n",
       "</table>\n",
       "</div>"
      ],
      "text/plain": [
       "         Date     MatchID      Time\n",
       "0  2017-09-23   465852274  04:53:37\n",
       "1  2017-09-13   241332275  03:34:06\n",
       "2  2017-09-13   240819742  02:50:22\n",
       "3  2017-11-22  1064084769  02:17:28\n",
       "4  2017-10-28   883454716  14:45:51"
      ]
     },
     "execution_count": 4,
     "metadata": {},
     "output_type": "execute_result"
    }
   ],
   "source": [
    "T6 = pd.DataFrame({\"MatchID\" : MatchIDs, \"Date\" : Date, \"Time\" : Time})\n",
    "T6.head()"
   ]
  },
  {
   "cell_type": "code",
   "execution_count": 5,
   "metadata": {},
   "outputs": [
    {
     "name": "stdout",
     "output_type": "stream",
     "text": [
      "(1079938, 3)\n"
     ]
    }
   ],
   "source": [
    "print(T6.shape)"
   ]
  },
  {
   "cell_type": "code",
   "execution_count": 6,
   "metadata": {},
   "outputs": [
    {
     "name": "stdout",
     "output_type": "stream",
     "text": [
      "(1077413, 3)\n"
     ]
    }
   ],
   "source": [
    "print(T6.drop_duplicates().shape)"
   ]
  },
  {
   "cell_type": "code",
   "execution_count": 7,
   "metadata": {
    "collapsed": true
   },
   "outputs": [],
   "source": [
    "T6 = T6.drop_duplicates()"
   ]
  },
  {
   "cell_type": "code",
   "execution_count": 8,
   "metadata": {
    "collapsed": true
   },
   "outputs": [],
   "source": [
    "T6.to_csv(\"data_table/table6_complete.csv\", index = False)"
   ]
  }
 ],
 "metadata": {
  "anaconda-cloud": {},
  "kernelspec": {
   "display_name": "Python 3",
   "language": "python",
   "name": "python3"
  },
  "language_info": {
   "codemirror_mode": {
    "name": "ipython",
    "version": 3
   },
   "file_extension": ".py",
   "mimetype": "text/x-python",
   "name": "python",
   "nbconvert_exporter": "python",
   "pygments_lexer": "ipython3",
   "version": "3.6.4"
  }
 },
 "nbformat": 4,
 "nbformat_minor": 2
}

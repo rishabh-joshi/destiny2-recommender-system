{
 "cells": [
  {
   "cell_type": "markdown",
   "metadata": {},
   "source": [
    "# Creating Table 3\n",
    "## Loading Libraries and Reading Data\n",
    "\n",
    "Generating file T3.csv which contains Fire Team IDs for each Character ID."
   ]
  },
  {
   "cell_type": "code",
   "execution_count": 1,
   "metadata": {
    "collapsed": true
   },
   "outputs": [],
   "source": [
    "import json\n",
    "import pandas as pd"
   ]
  },
  {
   "cell_type": "code",
   "execution_count": 2,
   "metadata": {
    "collapsed": true
   },
   "outputs": [],
   "source": [
    "data = open(\"../data/PGCR_graph_dataset0.json\")\n",
    "data = json.load(data)"
   ]
  },
  {
   "cell_type": "code",
   "execution_count": 3,
   "metadata": {
    "collapsed": true
   },
   "outputs": [],
   "source": [
    "data_copy = data"
   ]
  },
  {
   "cell_type": "markdown",
   "metadata": {},
   "source": [
    "## Exploring the structure of data"
   ]
  },
  {
   "cell_type": "code",
   "execution_count": 5,
   "metadata": {},
   "outputs": [
    {
     "data": {
      "text/plain": [
       "'2305843009268720704'"
      ]
     },
     "execution_count": 5,
     "metadata": {},
     "output_type": "execute_result"
    }
   ],
   "source": [
    "# Exploring the structure of data\n",
    "len(data) # 1003, is a list\n",
    "len(data[0]) # 25, is a list\n",
    "data[0][0][\"Response\"][\"entries\"][0][\"values\"][\"fireteamId\"][\"basic\"][\"value\"] # fire team ID\n",
    "data[0][0][\"Response\"][\"entries\"][0][\"characterId\"] # character ID"
   ]
  },
  {
   "cell_type": "code",
   "execution_count": 6,
   "metadata": {
    "collapsed": true
   },
   "outputs": [],
   "source": [
    "# # game_set 386 has some issues\n",
    "# for i, game_set in enumerate(data):\n",
    "#     print(i)\n",
    "#     if i == 386 : continue\n",
    "#     for game_info in game_set:\n",
    "#         for player_info in game_info[\"Response\"][\"entries\"]:\n",
    "#             print(player_info[\"player\"][\"destinyUserInfo\"][\"membershipId\"])"
   ]
  },
  {
   "cell_type": "code",
   "execution_count": 7,
   "metadata": {
    "collapsed": true
   },
   "outputs": [],
   "source": [
    "# removing the 386th element in data\n",
    "elem = data.pop(386)"
   ]
  },
  {
   "cell_type": "markdown",
   "metadata": {},
   "source": [
    "## Extracting `playerIDs` and `fireTeamIDs`"
   ]
  },
  {
   "cell_type": "code",
   "execution_count": 7,
   "metadata": {},
   "outputs": [
    {
     "ename": "KeyError",
     "evalue": "'Response'",
     "output_type": "error",
     "traceback": [
      "\u001b[1;31m---------------------------------------------------------------------------\u001b[0m",
      "\u001b[1;31mKeyError\u001b[0m                                  Traceback (most recent call last)",
      "\u001b[1;32m<ipython-input-7-0fc0fa93da49>\u001b[0m in \u001b[0;36m<module>\u001b[1;34m()\u001b[0m\n\u001b[1;32m----> 1\u001b[1;33m \u001b[0mplayerIDs\u001b[0m \u001b[1;33m=\u001b[0m \u001b[1;33m[\u001b[0m\u001b[0mplayer_info\u001b[0m\u001b[1;33m[\u001b[0m\u001b[1;34m\"characterId\"\u001b[0m\u001b[1;33m]\u001b[0m \u001b[1;32mfor\u001b[0m \u001b[0mgame_set\u001b[0m \u001b[1;32min\u001b[0m \u001b[0mdata\u001b[0m \u001b[1;32mfor\u001b[0m \u001b[0mgame_info\u001b[0m \u001b[1;32min\u001b[0m \u001b[0mgame_set\u001b[0m \u001b[1;32mfor\u001b[0m \u001b[0mplayer_info\u001b[0m \u001b[1;32min\u001b[0m \u001b[0mgame_info\u001b[0m\u001b[1;33m[\u001b[0m\u001b[1;34m\"Response\"\u001b[0m\u001b[1;33m]\u001b[0m\u001b[1;33m[\u001b[0m\u001b[1;34m\"entries\"\u001b[0m\u001b[1;33m]\u001b[0m\u001b[1;33m]\u001b[0m\u001b[1;33m\u001b[0m\u001b[0m\n\u001b[0m\u001b[0;32m      2\u001b[0m \u001b[0mlen\u001b[0m\u001b[1;33m(\u001b[0m\u001b[0mplayerIDs\u001b[0m\u001b[1;33m)\u001b[0m\u001b[1;33m\u001b[0m\u001b[0m\n",
      "\u001b[1;32m<ipython-input-7-0fc0fa93da49>\u001b[0m in \u001b[0;36m<listcomp>\u001b[1;34m(.0)\u001b[0m\n\u001b[1;32m----> 1\u001b[1;33m \u001b[0mplayerIDs\u001b[0m \u001b[1;33m=\u001b[0m \u001b[1;33m[\u001b[0m\u001b[0mplayer_info\u001b[0m\u001b[1;33m[\u001b[0m\u001b[1;34m\"characterId\"\u001b[0m\u001b[1;33m]\u001b[0m \u001b[1;32mfor\u001b[0m \u001b[0mgame_set\u001b[0m \u001b[1;32min\u001b[0m \u001b[0mdata\u001b[0m \u001b[1;32mfor\u001b[0m \u001b[0mgame_info\u001b[0m \u001b[1;32min\u001b[0m \u001b[0mgame_set\u001b[0m \u001b[1;32mfor\u001b[0m \u001b[0mplayer_info\u001b[0m \u001b[1;32min\u001b[0m \u001b[0mgame_info\u001b[0m\u001b[1;33m[\u001b[0m\u001b[1;34m\"Response\"\u001b[0m\u001b[1;33m]\u001b[0m\u001b[1;33m[\u001b[0m\u001b[1;34m\"entries\"\u001b[0m\u001b[1;33m]\u001b[0m\u001b[1;33m]\u001b[0m\u001b[1;33m\u001b[0m\u001b[0m\n\u001b[0m\u001b[0;32m      2\u001b[0m \u001b[0mlen\u001b[0m\u001b[1;33m(\u001b[0m\u001b[0mplayerIDs\u001b[0m\u001b[1;33m)\u001b[0m\u001b[1;33m\u001b[0m\u001b[0m\n",
      "\u001b[1;31mKeyError\u001b[0m: 'Response'"
     ]
    }
   ],
   "source": [
    "playerIDs = [player_info[\"player\"][\"destinyUserInfo\"][\"membershipId\"] for game_set in data for game_info in game_set for player_info in game_info[\"Response\"][\"entries\"]]\n",
    "len(playerIDs)"
   ]
  },
  {
   "cell_type": "code",
   "execution_count": 9,
   "metadata": {},
   "outputs": [
    {
     "data": {
      "text/plain": [
       "121645"
      ]
     },
     "execution_count": 9,
     "metadata": {},
     "output_type": "execute_result"
    }
   ],
   "source": [
    "fireTeamIDs = [player_info[\"values\"][\"fireteamId\"][\"basic\"][\"value\"] for game_set in data for game_info in game_set for player_info in game_info[\"Response\"][\"entries\"]]\n",
    "len(fireTeamIDs)"
   ]
  },
  {
   "cell_type": "markdown",
   "metadata": {},
   "source": [
    "## Creating the Data Frame"
   ]
  },
  {
   "cell_type": "code",
   "execution_count": 10,
   "metadata": {},
   "outputs": [
    {
     "data": {
      "text/html": [
       "<div>\n",
       "<style scoped>\n",
       "    .dataframe tbody tr th:only-of-type {\n",
       "        vertical-align: middle;\n",
       "    }\n",
       "\n",
       "    .dataframe tbody tr th {\n",
       "        vertical-align: top;\n",
       "    }\n",
       "\n",
       "    .dataframe thead th {\n",
       "        text-align: right;\n",
       "    }\n",
       "</style>\n",
       "<table border=\"1\" class=\"dataframe\">\n",
       "  <thead>\n",
       "    <tr style=\"text-align: right;\">\n",
       "      <th></th>\n",
       "      <th>fireTeamID</th>\n",
       "      <th>playerID</th>\n",
       "    </tr>\n",
       "  </thead>\n",
       "  <tbody>\n",
       "    <tr>\n",
       "      <th>0</th>\n",
       "      <td>-3.685548e+17</td>\n",
       "      <td>4611686018445743058</td>\n",
       "    </tr>\n",
       "    <tr>\n",
       "      <th>1</th>\n",
       "      <td>-2.245961e+18</td>\n",
       "      <td>4611686018445765559</td>\n",
       "    </tr>\n",
       "    <tr>\n",
       "      <th>2</th>\n",
       "      <td>-5.620820e+18</td>\n",
       "      <td>4611686018436434230</td>\n",
       "    </tr>\n",
       "    <tr>\n",
       "      <th>3</th>\n",
       "      <td>1.855335e+17</td>\n",
       "      <td>4611686018446767615</td>\n",
       "    </tr>\n",
       "    <tr>\n",
       "      <th>4</th>\n",
       "      <td>3.666009e+18</td>\n",
       "      <td>4611686018455684505</td>\n",
       "    </tr>\n",
       "  </tbody>\n",
       "</table>\n",
       "</div>"
      ],
      "text/plain": [
       "     fireTeamID             playerID\n",
       "0 -3.685548e+17  4611686018445743058\n",
       "1 -2.245961e+18  4611686018445765559\n",
       "2 -5.620820e+18  4611686018436434230\n",
       "3  1.855335e+17  4611686018446767615\n",
       "4  3.666009e+18  4611686018455684505"
      ]
     },
     "execution_count": 10,
     "metadata": {},
     "output_type": "execute_result"
    }
   ],
   "source": [
    "T3 = pd.DataFrame({\"fireTeamID\" : fireTeamIDs, \"playerID\" : playerIDs})\n",
    "T3.head()"
   ]
  },
  {
   "cell_type": "markdown",
   "metadata": {},
   "source": [
    "## What is wrong with elem 386?"
   ]
  },
  {
   "cell_type": "markdown",
   "metadata": {},
   "source": [
    "Using the for loop to investigate the problem, we found that `elem[4]` had some issues."
   ]
  },
  {
   "cell_type": "code",
   "execution_count": 11,
   "metadata": {},
   "outputs": [
    {
     "name": "stdout",
     "output_type": "stream",
     "text": [
      "0\n",
      "1.600697195277455e+18\n",
      "-6.348326376293105e+18\n",
      "-6.494090189096198e+18\n",
      "1.1028136067465902e+17\n",
      "6.345618395897744e+18\n",
      "7.292249995381676e+18\n",
      "6.345618395897744e+18\n",
      "6.345618395897744e+18\n",
      "1\n",
      "-6.784968767515582e+18\n",
      "-6.494090189096198e+18\n",
      "-6.54366773945844e+18\n",
      "8.045228988200403e+18\n",
      "-5.741375587544479e+18\n",
      "2.5781988903164544e+18\n",
      "-7.396708596824929e+18\n",
      "4.173493896829916e+18\n",
      "2\n",
      "7.475683580473355e+18\n",
      "-1.7666294348954877e+17\n",
      "2.4083941538884538e+17\n",
      "-6.899599156010211e+18\n",
      "-7.170965067668722e+18\n",
      "-6.494090189096198e+18\n",
      "-2.70978892716923e+18\n",
      "2.4083941538884538e+17\n",
      "3\n",
      "7.35842355099692e+18\n",
      "4.819254210965579e+18\n",
      "6.919517908570447e+18\n",
      "1.8524873921183473e+18\n",
      "-1.6663537611408812e+18\n",
      "-6.494090189096198e+18\n",
      "2.0248044766801326e+18\n",
      "-2.075682527226918e+18\n",
      "-4.410787300159699e+18\n",
      "4\n"
     ]
    },
    {
     "ename": "KeyError",
     "evalue": "'Response'",
     "output_type": "error",
     "traceback": [
      "\u001b[1;31m---------------------------------------------------------------------------\u001b[0m",
      "\u001b[1;31mKeyError\u001b[0m                                  Traceback (most recent call last)",
      "\u001b[1;32m<ipython-input-11-1cc359fdfc9a>\u001b[0m in \u001b[0;36m<module>\u001b[1;34m()\u001b[0m\n\u001b[0;32m      3\u001b[0m \u001b[1;32mfor\u001b[0m \u001b[0mi\u001b[0m\u001b[1;33m,\u001b[0m \u001b[0mgame_info\u001b[0m \u001b[1;32min\u001b[0m \u001b[0menumerate\u001b[0m\u001b[1;33m(\u001b[0m\u001b[0melem\u001b[0m\u001b[1;33m)\u001b[0m\u001b[1;33m:\u001b[0m\u001b[1;33m\u001b[0m\u001b[0m\n\u001b[0;32m      4\u001b[0m     \u001b[0mprint\u001b[0m\u001b[1;33m(\u001b[0m\u001b[0mi\u001b[0m\u001b[1;33m)\u001b[0m\u001b[1;33m\u001b[0m\u001b[0m\n\u001b[1;32m----> 5\u001b[1;33m     \u001b[1;32mfor\u001b[0m \u001b[0mplayer_info\u001b[0m \u001b[1;32min\u001b[0m \u001b[0mgame_info\u001b[0m\u001b[1;33m[\u001b[0m\u001b[1;34m\"Response\"\u001b[0m\u001b[1;33m]\u001b[0m\u001b[1;33m[\u001b[0m\u001b[1;34m\"entries\"\u001b[0m\u001b[1;33m]\u001b[0m\u001b[1;33m:\u001b[0m\u001b[1;33m\u001b[0m\u001b[0m\n\u001b[0m\u001b[0;32m      6\u001b[0m         \u001b[0mprint\u001b[0m\u001b[1;33m(\u001b[0m\u001b[0mplayer_info\u001b[0m\u001b[1;33m[\u001b[0m\u001b[1;34m\"values\"\u001b[0m\u001b[1;33m]\u001b[0m\u001b[1;33m[\u001b[0m\u001b[1;34m\"fireteamId\"\u001b[0m\u001b[1;33m]\u001b[0m\u001b[1;33m[\u001b[0m\u001b[1;34m\"basic\"\u001b[0m\u001b[1;33m]\u001b[0m\u001b[1;33m[\u001b[0m\u001b[1;34m\"value\"\u001b[0m\u001b[1;33m]\u001b[0m\u001b[1;33m)\u001b[0m\u001b[1;33m\u001b[0m\u001b[0m\n",
      "\u001b[1;31mKeyError\u001b[0m: 'Response'"
     ]
    }
   ],
   "source": [
    "len(elem)\n",
    "\n",
    "for i, game_info in enumerate(elem):\n",
    "    print(i)\n",
    "    for player_info in game_info[\"Response\"][\"entries\"]:\n",
    "        print(player_info[\"values\"][\"fireteamId\"][\"basic\"][\"value\"])"
   ]
  },
  {
   "cell_type": "markdown",
   "metadata": {},
   "source": [
    "`elem[4]` has non unit `ErrorCode`."
   ]
  },
  {
   "cell_type": "code",
   "execution_count": 12,
   "metadata": {},
   "outputs": [
    {
     "data": {
      "text/plain": [
       "{'ErrorCode': 1618,\n",
       " 'ErrorStatus': 'DestinyUnexpectedError',\n",
       " 'Message': \"An unexpected error has occurred on Bungie's servers while trying to grab Destiny information.\",\n",
       " 'MessageData': {},\n",
       " 'ThrottleSeconds': 0}"
      ]
     },
     "execution_count": 12,
     "metadata": {},
     "output_type": "execute_result"
    }
   ],
   "source": [
    "elem[4]"
   ]
  },
  {
   "cell_type": "markdown",
   "metadata": {},
   "source": [
    "Clearly, we also need to consider the value of the `ErrorCode` before extracting the information to avoid such errors."
   ]
  },
  {
   "cell_type": "markdown",
   "metadata": {},
   "source": [
    "## Modifying the extraction code"
   ]
  },
  {
   "cell_type": "code",
   "execution_count": 8,
   "metadata": {
    "collapsed": true
   },
   "outputs": [],
   "source": [
    "data = data_copy"
   ]
  },
  {
   "cell_type": "code",
   "execution_count": 9,
   "metadata": {},
   "outputs": [
    {
     "data": {
      "text/plain": [
       "121744"
      ]
     },
     "execution_count": 9,
     "metadata": {},
     "output_type": "execute_result"
    }
   ],
   "source": [
    "playerIDs = [player_info[\"characterId\"] for game_set in data for game_info in game_set if game_info[\"ErrorCode\"] == 1 for player_info in game_info[\"Response\"][\"entries\"]]\n",
    "len(playerIDs)"
   ]
  },
  {
   "cell_type": "code",
   "execution_count": 10,
   "metadata": {},
   "outputs": [
    {
     "data": {
      "text/plain": [
       "121744"
      ]
     },
     "execution_count": 10,
     "metadata": {},
     "output_type": "execute_result"
    }
   ],
   "source": [
    "fireTeamIDs = [player_info[\"values\"][\"fireteamId\"][\"basic\"][\"value\"] for game_set in data for game_info in game_set if game_info[\"ErrorCode\"] == 1 for player_info in game_info[\"Response\"][\"entries\"]]\n",
    "len(fireTeamIDs)"
   ]
  },
  {
   "cell_type": "code",
   "execution_count": 11,
   "metadata": {},
   "outputs": [
    {
     "data": {
      "text/html": [
       "<div>\n",
       "<style scoped>\n",
       "    .dataframe tbody tr th:only-of-type {\n",
       "        vertical-align: middle;\n",
       "    }\n",
       "\n",
       "    .dataframe tbody tr th {\n",
       "        vertical-align: top;\n",
       "    }\n",
       "\n",
       "    .dataframe thead th {\n",
       "        text-align: right;\n",
       "    }\n",
       "</style>\n",
       "<table border=\"1\" class=\"dataframe\">\n",
       "  <thead>\n",
       "    <tr style=\"text-align: right;\">\n",
       "      <th></th>\n",
       "      <th>fireTeamID</th>\n",
       "      <th>playerID</th>\n",
       "    </tr>\n",
       "  </thead>\n",
       "  <tbody>\n",
       "    <tr>\n",
       "      <th>0</th>\n",
       "      <td>-3.685548e+17</td>\n",
       "      <td>2305843009268720704</td>\n",
       "    </tr>\n",
       "    <tr>\n",
       "      <th>1</th>\n",
       "      <td>-2.245961e+18</td>\n",
       "      <td>2305843009265606963</td>\n",
       "    </tr>\n",
       "    <tr>\n",
       "      <th>2</th>\n",
       "      <td>-5.620820e+18</td>\n",
       "      <td>2305843009262752454</td>\n",
       "    </tr>\n",
       "    <tr>\n",
       "      <th>3</th>\n",
       "      <td>1.855335e+17</td>\n",
       "      <td>2305843009261639164</td>\n",
       "    </tr>\n",
       "    <tr>\n",
       "      <th>4</th>\n",
       "      <td>3.666009e+18</td>\n",
       "      <td>2305843009265034294</td>\n",
       "    </tr>\n",
       "  </tbody>\n",
       "</table>\n",
       "</div>"
      ],
      "text/plain": [
       "     fireTeamID             playerID\n",
       "0 -3.685548e+17  2305843009268720704\n",
       "1 -2.245961e+18  2305843009265606963\n",
       "2 -5.620820e+18  2305843009262752454\n",
       "3  1.855335e+17  2305843009261639164\n",
       "4  3.666009e+18  2305843009265034294"
      ]
     },
     "execution_count": 11,
     "metadata": {},
     "output_type": "execute_result"
    }
   ],
   "source": [
    "T3 = pd.DataFrame({\"fireTeamID\" : fireTeamIDs, \"playerID\" : playerIDs})\n",
    "T3.head()"
   ]
  },
  {
   "cell_type": "code",
   "execution_count": 12,
   "metadata": {
    "collapsed": true
   },
   "outputs": [],
   "source": [
    "T3.to_csv(\"T3.csv\", index = False)"
   ]
  },
  {
   "cell_type": "code",
   "execution_count": 13,
   "metadata": {},
   "outputs": [
    {
     "data": {
      "text/plain": [
       "-3.685548012425789e+17"
      ]
     },
     "execution_count": 13,
     "metadata": {},
     "output_type": "execute_result"
    }
   ],
   "source": [
    "fireTeamIDs[0]"
   ]
  },
  {
   "cell_type": "markdown",
   "metadata": {},
   "source": [
    "# Creating table 3 from all the files\n",
    "\n",
    "Reading all 50 json files"
   ]
  },
  {
   "cell_type": "code",
   "execution_count": 1,
   "metadata": {
    "collapsed": true
   },
   "outputs": [],
   "source": [
    "import json\n",
    "import pandas as pd"
   ]
  },
  {
   "cell_type": "code",
   "execution_count": 7,
   "metadata": {
    "collapsed": true
   },
   "outputs": [],
   "source": [
    "file_names = [\"../data/PGCR_graph_dataset\" + str(i) + \".json\" for i in range(1,51)]\n",
    "# data_files = [json.load(open(file_name)) for file_name in file_names]"
   ]
  },
  {
   "cell_type": "markdown",
   "metadata": {},
   "source": [
    "Reading json files one at a time, parsing and filtering the data, and finally removing the data from memory to make room for the next file. This will ensure that the script doesn't time out due to memory issues."
   ]
  },
  {
   "cell_type": "code",
   "execution_count": 11,
   "metadata": {},
   "outputs": [
    {
     "name": "stdout",
     "output_type": "stream",
     "text": [
      "Opening file: ../data/PGCR_graph_dataset1.json\n",
      "File Loaded: ../data/PGCR_graph_dataset1.json\n",
      "playerIDs len: 86417 fireTeamIDs len: 86417\n",
      "Opening file: ../data/PGCR_graph_dataset2.json\n",
      "File Loaded: ../data/PGCR_graph_dataset2.json\n",
      "playerIDs len: 171328 fireTeamIDs len: 171328\n",
      "Opening file: ../data/PGCR_graph_dataset3.json\n",
      "File Loaded: ../data/PGCR_graph_dataset3.json\n",
      "playerIDs len: 254036 fireTeamIDs len: 254036\n",
      "Opening file: ../data/PGCR_graph_dataset4.json\n",
      "File Loaded: ../data/PGCR_graph_dataset4.json\n",
      "playerIDs len: 340620 fireTeamIDs len: 340620\n",
      "Opening file: ../data/PGCR_graph_dataset5.json\n",
      "File Loaded: ../data/PGCR_graph_dataset5.json\n",
      "playerIDs len: 424613 fireTeamIDs len: 424613\n",
      "Opening file: ../data/PGCR_graph_dataset6.json\n",
      "File Loaded: ../data/PGCR_graph_dataset6.json\n",
      "playerIDs len: 512983 fireTeamIDs len: 512983\n",
      "Opening file: ../data/PGCR_graph_dataset7.json\n",
      "File Loaded: ../data/PGCR_graph_dataset7.json\n",
      "playerIDs len: 599248 fireTeamIDs len: 599248\n",
      "Opening file: ../data/PGCR_graph_dataset8.json\n",
      "File Loaded: ../data/PGCR_graph_dataset8.json\n",
      "playerIDs len: 681958 fireTeamIDs len: 681958\n",
      "Opening file: ../data/PGCR_graph_dataset9.json\n",
      "File Loaded: ../data/PGCR_graph_dataset9.json\n",
      "playerIDs len: 769929 fireTeamIDs len: 769929\n",
      "Opening file: ../data/PGCR_graph_dataset10.json\n",
      "File Loaded: ../data/PGCR_graph_dataset10.json\n",
      "playerIDs len: 856681 fireTeamIDs len: 856681\n",
      "Opening file: ../data/PGCR_graph_dataset11.json\n",
      "File Loaded: ../data/PGCR_graph_dataset11.json\n",
      "playerIDs len: 940906 fireTeamIDs len: 940906\n",
      "Opening file: ../data/PGCR_graph_dataset12.json\n",
      "File Loaded: ../data/PGCR_graph_dataset12.json\n",
      "playerIDs len: 1027505 fireTeamIDs len: 1027505\n",
      "Opening file: ../data/PGCR_graph_dataset13.json\n",
      "File Loaded: ../data/PGCR_graph_dataset13.json\n",
      "playerIDs len: 1116275 fireTeamIDs len: 1116275\n",
      "Opening file: ../data/PGCR_graph_dataset14.json\n",
      "File Loaded: ../data/PGCR_graph_dataset14.json\n",
      "playerIDs len: 1205551 fireTeamIDs len: 1205551\n",
      "Opening file: ../data/PGCR_graph_dataset15.json\n",
      "File Loaded: ../data/PGCR_graph_dataset15.json\n",
      "playerIDs len: 1291459 fireTeamIDs len: 1291459\n",
      "Opening file: ../data/PGCR_graph_dataset16.json\n",
      "File Loaded: ../data/PGCR_graph_dataset16.json\n",
      "playerIDs len: 1377093 fireTeamIDs len: 1377093\n",
      "Opening file: ../data/PGCR_graph_dataset17.json\n",
      "File Loaded: ../data/PGCR_graph_dataset17.json\n",
      "playerIDs len: 1462090 fireTeamIDs len: 1462090\n",
      "Opening file: ../data/PGCR_graph_dataset18.json\n",
      "File Loaded: ../data/PGCR_graph_dataset18.json\n",
      "playerIDs len: 1546347 fireTeamIDs len: 1546347\n",
      "Opening file: ../data/PGCR_graph_dataset19.json\n",
      "File Loaded: ../data/PGCR_graph_dataset19.json\n",
      "playerIDs len: 1631859 fireTeamIDs len: 1631859\n",
      "Opening file: ../data/PGCR_graph_dataset20.json\n",
      "File Loaded: ../data/PGCR_graph_dataset20.json\n",
      "playerIDs len: 1719436 fireTeamIDs len: 1719436\n",
      "Opening file: ../data/PGCR_graph_dataset21.json\n",
      "File Loaded: ../data/PGCR_graph_dataset21.json\n",
      "playerIDs len: 1804205 fireTeamIDs len: 1804205\n",
      "Opening file: ../data/PGCR_graph_dataset22.json\n",
      "File Loaded: ../data/PGCR_graph_dataset22.json\n",
      "playerIDs len: 1893824 fireTeamIDs len: 1893824\n",
      "Opening file: ../data/PGCR_graph_dataset23.json\n",
      "File Loaded: ../data/PGCR_graph_dataset23.json\n",
      "playerIDs len: 1978375 fireTeamIDs len: 1978375\n",
      "Opening file: ../data/PGCR_graph_dataset24.json\n",
      "File Loaded: ../data/PGCR_graph_dataset24.json\n",
      "playerIDs len: 2059785 fireTeamIDs len: 2059785\n",
      "Opening file: ../data/PGCR_graph_dataset25.json\n",
      "File Loaded: ../data/PGCR_graph_dataset25.json\n",
      "playerIDs len: 2146918 fireTeamIDs len: 2146918\n",
      "Opening file: ../data/PGCR_graph_dataset26.json\n",
      "File Loaded: ../data/PGCR_graph_dataset26.json\n",
      "playerIDs len: 2231953 fireTeamIDs len: 2231953\n",
      "Opening file: ../data/PGCR_graph_dataset27.json\n",
      "File Loaded: ../data/PGCR_graph_dataset27.json\n",
      "playerIDs len: 2317469 fireTeamIDs len: 2317469\n",
      "Opening file: ../data/PGCR_graph_dataset28.json\n",
      "File Loaded: ../data/PGCR_graph_dataset28.json\n",
      "playerIDs len: 2400670 fireTeamIDs len: 2400670\n",
      "Opening file: ../data/PGCR_graph_dataset29.json\n",
      "File Loaded: ../data/PGCR_graph_dataset29.json\n",
      "playerIDs len: 2488048 fireTeamIDs len: 2488048\n",
      "Opening file: ../data/PGCR_graph_dataset30.json\n",
      "File Loaded: ../data/PGCR_graph_dataset30.json\n",
      "playerIDs len: 2573710 fireTeamIDs len: 2573710\n",
      "Opening file: ../data/PGCR_graph_dataset31.json\n",
      "File Loaded: ../data/PGCR_graph_dataset31.json\n",
      "playerIDs len: 2663028 fireTeamIDs len: 2663028\n",
      "Opening file: ../data/PGCR_graph_dataset32.json\n",
      "File Loaded: ../data/PGCR_graph_dataset32.json\n",
      "playerIDs len: 2749278 fireTeamIDs len: 2749278\n",
      "Opening file: ../data/PGCR_graph_dataset33.json\n",
      "File Loaded: ../data/PGCR_graph_dataset33.json\n",
      "playerIDs len: 2835620 fireTeamIDs len: 2835620\n",
      "Opening file: ../data/PGCR_graph_dataset34.json\n",
      "File Loaded: ../data/PGCR_graph_dataset34.json\n",
      "playerIDs len: 2920971 fireTeamIDs len: 2920971\n",
      "Opening file: ../data/PGCR_graph_dataset35.json\n",
      "File Loaded: ../data/PGCR_graph_dataset35.json\n",
      "playerIDs len: 3006384 fireTeamIDs len: 3006384\n",
      "Opening file: ../data/PGCR_graph_dataset36.json\n",
      "File Loaded: ../data/PGCR_graph_dataset36.json\n",
      "playerIDs len: 3090847 fireTeamIDs len: 3090847\n",
      "Opening file: ../data/PGCR_graph_dataset37.json\n",
      "File Loaded: ../data/PGCR_graph_dataset37.json\n",
      "playerIDs len: 3180429 fireTeamIDs len: 3180429\n",
      "Opening file: ../data/PGCR_graph_dataset38.json\n",
      "File Loaded: ../data/PGCR_graph_dataset38.json\n",
      "playerIDs len: 3270376 fireTeamIDs len: 3270376\n",
      "Opening file: ../data/PGCR_graph_dataset39.json\n",
      "File Loaded: ../data/PGCR_graph_dataset39.json\n",
      "playerIDs len: 3355457 fireTeamIDs len: 3355457\n",
      "Opening file: ../data/PGCR_graph_dataset40.json\n",
      "File Loaded: ../data/PGCR_graph_dataset40.json\n",
      "playerIDs len: 3441333 fireTeamIDs len: 3441333\n",
      "Opening file: ../data/PGCR_graph_dataset41.json\n",
      "File Loaded: ../data/PGCR_graph_dataset41.json\n",
      "playerIDs len: 3529969 fireTeamIDs len: 3529969\n",
      "Opening file: ../data/PGCR_graph_dataset42.json\n",
      "File Loaded: ../data/PGCR_graph_dataset42.json\n",
      "playerIDs len: 3617166 fireTeamIDs len: 3617166\n",
      "Opening file: ../data/PGCR_graph_dataset43.json\n",
      "File Loaded: ../data/PGCR_graph_dataset43.json\n",
      "playerIDs len: 3702017 fireTeamIDs len: 3702017\n",
      "Opening file: ../data/PGCR_graph_dataset44.json\n",
      "File Loaded: ../data/PGCR_graph_dataset44.json\n",
      "playerIDs len: 3792204 fireTeamIDs len: 3792204\n",
      "Opening file: ../data/PGCR_graph_dataset45.json\n",
      "File Loaded: ../data/PGCR_graph_dataset45.json\n",
      "playerIDs len: 3882936 fireTeamIDs len: 3882936\n",
      "Opening file: ../data/PGCR_graph_dataset46.json\n",
      "File Loaded: ../data/PGCR_graph_dataset46.json\n",
      "playerIDs len: 3967042 fireTeamIDs len: 3967042\n",
      "Opening file: ../data/PGCR_graph_dataset47.json\n",
      "File Loaded: ../data/PGCR_graph_dataset47.json\n",
      "playerIDs len: 4049064 fireTeamIDs len: 4049064\n",
      "Opening file: ../data/PGCR_graph_dataset48.json\n",
      "File Loaded: ../data/PGCR_graph_dataset48.json\n",
      "playerIDs len: 4134440 fireTeamIDs len: 4134440\n",
      "Opening file: ../data/PGCR_graph_dataset49.json\n",
      "File Loaded: ../data/PGCR_graph_dataset49.json\n",
      "playerIDs len: 4223946 fireTeamIDs len: 4223946\n",
      "Opening file: ../data/PGCR_graph_dataset50.json\n",
      "File Loaded: ../data/PGCR_graph_dataset50.json\n",
      "playerIDs len: 4308218 fireTeamIDs len: 4308218\n"
     ]
    }
   ],
   "source": [
    "playerIDs = []\n",
    "fireTeamIDs = []\n",
    "for filename in file_names:\n",
    "    print(\"Opening file:\", filename)\n",
    "    data = json.load(open(filename))\n",
    "    print(\"File Loaded:\", filename) \n",
    "    playerIDs.extend([player_info[\"characterId\"] for game_set in data for game_info in game_set if game_info[\"ErrorCode\"] == 1 for player_info in game_info[\"Response\"][\"entries\"]])\n",
    "    fireTeamIDs.extend([player_info[\"values\"][\"fireteamId\"][\"basic\"][\"value\"] for game_set in data for game_info in game_set if game_info[\"ErrorCode\"] == 1 for player_info in game_info[\"Response\"][\"entries\"]])\n",
    "    print(\"playerIDs len:\", len(playerIDs), \"fireTeamIDs len:\", len(fireTeamIDs))\n",
    "    del data"
   ]
  },
  {
   "cell_type": "code",
   "execution_count": 12,
   "metadata": {},
   "outputs": [
    {
     "name": "stdout",
     "output_type": "stream",
     "text": [
      "     fireTeamID             playerID\n",
      "0  4.116352e+18  2305843009278974423\n",
      "1 -6.943784e+18  2305843009278974423\n",
      "2 -3.508653e+17  2305843009278974423\n",
      "3  2.043913e+17  2305843009269402895\n",
      "4 -1.083649e+18  2305843009269402895\n"
     ]
    }
   ],
   "source": [
    "T3 = pd.DataFrame({\"fireTeamID\" : fireTeamIDs, \"playerID\" : playerIDs})\n",
    "print(T3.head())"
   ]
  },
  {
   "cell_type": "code",
   "execution_count": 13,
   "metadata": {},
   "outputs": [
    {
     "data": {
      "text/plain": [
       "(4308218, 2)"
      ]
     },
     "execution_count": 13,
     "metadata": {},
     "output_type": "execute_result"
    }
   ],
   "source": [
    "T3.shape"
   ]
  },
  {
   "cell_type": "code",
   "execution_count": 14,
   "metadata": {},
   "outputs": [
    {
     "data": {
      "text/plain": [
       "(3076329, 2)"
      ]
     },
     "execution_count": 14,
     "metadata": {},
     "output_type": "execute_result"
    }
   ],
   "source": [
    "T3.drop_duplicates().shape"
   ]
  },
  {
   "cell_type": "code",
   "execution_count": 15,
   "metadata": {
    "collapsed": true
   },
   "outputs": [],
   "source": [
    "T3 = T3.drop_duplicates()"
   ]
  },
  {
   "cell_type": "code",
   "execution_count": 16,
   "metadata": {
    "collapsed": true
   },
   "outputs": [],
   "source": [
    "T3.to_csv(\"data_table/table3_complete.csv\", index = False)"
   ]
  },
  {
   "cell_type": "markdown",
   "metadata": {},
   "source": [
    "## Updating table 3 with only team with 4 players\n",
    "\n",
    "Only keeping the teams which have exactly 4 players in the fireteam."
   ]
  },
  {
   "cell_type": "code",
   "execution_count": null,
   "metadata": {},
   "outputs": [],
   "source": [
    "t3 = pd.read_csv(\"data_table/table3_complete.csv\")\n",
    "t3.head()"
   ]
  },
  {
   "cell_type": "code",
   "execution_count": null,
   "metadata": {},
   "outputs": [],
   "source": [
    "t3.drop_duplicates().shape"
   ]
  },
  {
   "cell_type": "code",
   "execution_count": null,
   "metadata": {},
   "outputs": [],
   "source": [
    "t = t3.groupby(['fireTeamID']).agg(['count'])"
   ]
  },
  {
   "cell_type": "code",
   "execution_count": null,
   "metadata": {},
   "outputs": [],
   "source": [
    "t.ix[:,0].value_counts()"
   ]
  },
  {
   "cell_type": "code",
   "execution_count": null,
   "metadata": {},
   "outputs": [],
   "source": [
    "fireTeams = t[t.ix[:,0]==4].index.values"
   ]
  },
  {
   "cell_type": "code",
   "execution_count": null,
   "metadata": {},
   "outputs": [],
   "source": [
    "t3.loc[t3['fireTeamID'].isin(fireTeams)].to_csv(\"data_table/table3_updated.csv\")"
   ]
  }
 ],
 "metadata": {
  "anaconda-cloud": {},
  "kernelspec": {
   "display_name": "Python 3",
   "language": "python",
   "name": "python3"
  },
  "language_info": {
   "codemirror_mode": {
    "name": "ipython",
    "version": 3
   },
   "file_extension": ".py",
   "mimetype": "text/x-python",
   "name": "python",
   "nbconvert_exporter": "python",
   "pygments_lexer": "ipython3",
   "version": "3.6.4"
  }
 },
 "nbformat": 4,
 "nbformat_minor": 2
}

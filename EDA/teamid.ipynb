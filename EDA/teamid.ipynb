{
 "cells": [
  {
   "cell_type": "code",
   "execution_count": 2,
   "metadata": {
    "collapsed": true
   },
   "outputs": [],
   "source": [
    "import pandas as pd\n",
    "import numpy as np\n",
    "from datetime import datetime as dt\n",
    "from datetime import date\n",
    "from sklearn.preprocessing import scale\n",
    "from sklearn.preprocessing import minmax_scale\n",
    "from sklearn import mixture\n",
    "import matplotlib.pyplot as plt\n",
    "%matplotlib inline\n",
    "import seaborn as sns\n",
    "from sklearn.preprocessing import MinMaxScaler"
   ]
  },
  {
   "cell_type": "code",
   "execution_count": 5,
   "metadata": {
    "collapsed": true
   },
   "outputs": [],
   "source": [
    "table2= pd.read_csv(\"table2_total.csv\")\n",
    "table2=table2.drop([\"Unnamed: 0\",\"Unnamed: 0.1\"],axis=1)"
   ]
  },
  {
   "cell_type": "code",
   "execution_count": 6,
   "metadata": {},
   "outputs": [
    {
     "data": {
      "text/html": [
       "<div>\n",
       "<style scoped>\n",
       "    .dataframe tbody tr th:only-of-type {\n",
       "        vertical-align: middle;\n",
       "    }\n",
       "\n",
       "    .dataframe tbody tr th {\n",
       "        vertical-align: top;\n",
       "    }\n",
       "\n",
       "    .dataframe thead th {\n",
       "        text-align: right;\n",
       "    }\n",
       "</style>\n",
       "<table border=\"1\" class=\"dataframe\">\n",
       "  <thead>\n",
       "    <tr style=\"text-align: right;\">\n",
       "      <th></th>\n",
       "      <th>Ability</th>\n",
       "      <th>Character_Class</th>\n",
       "      <th>Character_Level</th>\n",
       "      <th>Grenade</th>\n",
       "      <th>KDA</th>\n",
       "      <th>Lightlevel</th>\n",
       "      <th>Melee</th>\n",
       "      <th>Super</th>\n",
       "      <th>assists</th>\n",
       "      <th>avg_score_per_life</th>\n",
       "      <th>deaths</th>\n",
       "      <th>efficiency</th>\n",
       "      <th>kills</th>\n",
       "      <th>matchID</th>\n",
       "      <th>playersID</th>\n",
       "      <th>score</th>\n",
       "    </tr>\n",
       "  </thead>\n",
       "  <tbody>\n",
       "    <tr>\n",
       "      <th>0</th>\n",
       "      <td>0.0</td>\n",
       "      <td>Titan</td>\n",
       "      <td>25</td>\n",
       "      <td>1.0</td>\n",
       "      <td>1.833333</td>\n",
       "      <td>335</td>\n",
       "      <td>2.0</td>\n",
       "      <td>2.0</td>\n",
       "      <td>3.0</td>\n",
       "      <td>3.200000</td>\n",
       "      <td>9.0</td>\n",
       "      <td>2.000000</td>\n",
       "      <td>15.0</td>\n",
       "      <td>1459943405</td>\n",
       "      <td>2305843009283916134</td>\n",
       "      <td>32.0</td>\n",
       "    </tr>\n",
       "    <tr>\n",
       "      <th>1</th>\n",
       "      <td>0.0</td>\n",
       "      <td>Hunter</td>\n",
       "      <td>25</td>\n",
       "      <td>1.0</td>\n",
       "      <td>1.200000</td>\n",
       "      <td>334</td>\n",
       "      <td>0.0</td>\n",
       "      <td>0.0</td>\n",
       "      <td>2.0</td>\n",
       "      <td>1.687500</td>\n",
       "      <td>15.0</td>\n",
       "      <td>1.266667</td>\n",
       "      <td>17.0</td>\n",
       "      <td>1459943405</td>\n",
       "      <td>2305843009260473349</td>\n",
       "      <td>27.0</td>\n",
       "    </tr>\n",
       "    <tr>\n",
       "      <th>2</th>\n",
       "      <td>0.0</td>\n",
       "      <td>Warlock</td>\n",
       "      <td>25</td>\n",
       "      <td>1.0</td>\n",
       "      <td>0.653846</td>\n",
       "      <td>335</td>\n",
       "      <td>0.0</td>\n",
       "      <td>0.0</td>\n",
       "      <td>3.0</td>\n",
       "      <td>1.071429</td>\n",
       "      <td>13.0</td>\n",
       "      <td>0.769231</td>\n",
       "      <td>7.0</td>\n",
       "      <td>1459943405</td>\n",
       "      <td>2305843009265606964</td>\n",
       "      <td>15.0</td>\n",
       "    </tr>\n",
       "    <tr>\n",
       "      <th>3</th>\n",
       "      <td>0.0</td>\n",
       "      <td>Titan</td>\n",
       "      <td>25</td>\n",
       "      <td>0.0</td>\n",
       "      <td>0.406250</td>\n",
       "      <td>335</td>\n",
       "      <td>1.0</td>\n",
       "      <td>1.0</td>\n",
       "      <td>1.0</td>\n",
       "      <td>0.764706</td>\n",
       "      <td>16.0</td>\n",
       "      <td>0.437500</td>\n",
       "      <td>6.0</td>\n",
       "      <td>1459943405</td>\n",
       "      <td>2305843009264488479</td>\n",
       "      <td>13.0</td>\n",
       "    </tr>\n",
       "    <tr>\n",
       "      <th>4</th>\n",
       "      <td>0.0</td>\n",
       "      <td>Hunter</td>\n",
       "      <td>20</td>\n",
       "      <td>0.0</td>\n",
       "      <td>2.555556</td>\n",
       "      <td>290</td>\n",
       "      <td>1.0</td>\n",
       "      <td>1.0</td>\n",
       "      <td>12.0</td>\n",
       "      <td>3.400000</td>\n",
       "      <td>9.0</td>\n",
       "      <td>3.222222</td>\n",
       "      <td>17.0</td>\n",
       "      <td>986171745</td>\n",
       "      <td>2305843009301451364</td>\n",
       "      <td>34.0</td>\n",
       "    </tr>\n",
       "  </tbody>\n",
       "</table>\n",
       "</div>"
      ],
      "text/plain": [
       "   Ability Character_Class  Character_Level  Grenade       KDA  Lightlevel  \\\n",
       "0      0.0           Titan               25      1.0  1.833333         335   \n",
       "1      0.0          Hunter               25      1.0  1.200000         334   \n",
       "2      0.0         Warlock               25      1.0  0.653846         335   \n",
       "3      0.0           Titan               25      0.0  0.406250         335   \n",
       "4      0.0          Hunter               20      0.0  2.555556         290   \n",
       "\n",
       "   Melee  Super  assists  avg_score_per_life  deaths  efficiency  kills  \\\n",
       "0    2.0    2.0      3.0            3.200000     9.0    2.000000   15.0   \n",
       "1    0.0    0.0      2.0            1.687500    15.0    1.266667   17.0   \n",
       "2    0.0    0.0      3.0            1.071429    13.0    0.769231    7.0   \n",
       "3    1.0    1.0      1.0            0.764706    16.0    0.437500    6.0   \n",
       "4    1.0    1.0     12.0            3.400000     9.0    3.222222   17.0   \n",
       "\n",
       "      matchID            playersID  score  \n",
       "0  1459943405  2305843009283916134   32.0  \n",
       "1  1459943405  2305843009260473349   27.0  \n",
       "2  1459943405  2305843009265606964   15.0  \n",
       "3  1459943405  2305843009264488479   13.0  \n",
       "4   986171745  2305843009301451364   34.0  "
      ]
     },
     "execution_count": 6,
     "metadata": {},
     "output_type": "execute_result"
    }
   ],
   "source": [
    "table2.head()"
   ]
  },
  {
   "cell_type": "code",
   "execution_count": 7,
   "metadata": {},
   "outputs": [
    {
     "data": {
      "text/plain": [
       "(315940, 16)"
      ]
     },
     "execution_count": 7,
     "metadata": {},
     "output_type": "execute_result"
    }
   ],
   "source": [
    "table2.shape"
   ]
  },
  {
   "cell_type": "markdown",
   "metadata": {},
   "source": [
    "### create new team id by combining  sorted players IDs into one string"
   ]
  },
  {
   "cell_type": "code",
   "execution_count": 8,
   "metadata": {
    "collapsed": true
   },
   "outputs": [],
   "source": [
    "#sample data first\n",
    "sample=table2.head(20000)"
   ]
  },
  {
   "cell_type": "code",
   "execution_count": 10,
   "metadata": {},
   "outputs": [
    {
     "data": {
      "text/plain": [
       "(20000, 16)"
      ]
     },
     "execution_count": 10,
     "metadata": {},
     "output_type": "execute_result"
    }
   ],
   "source": [
    "sample.shape"
   ]
  },
  {
   "cell_type": "markdown",
   "metadata": {},
   "source": [
    "### Sort the data by match and player first "
   ]
  },
  {
   "cell_type": "code",
   "execution_count": 14,
   "metadata": {},
   "outputs": [],
   "source": [
    "sort_dt=sample.sort_values([\"matchID\",\"playersID\"]).reset_index().drop(\"index\",axis=1)"
   ]
  },
  {
   "cell_type": "code",
   "execution_count": 15,
   "metadata": {},
   "outputs": [
    {
     "data": {
      "text/html": [
       "<div>\n",
       "<style scoped>\n",
       "    .dataframe tbody tr th:only-of-type {\n",
       "        vertical-align: middle;\n",
       "    }\n",
       "\n",
       "    .dataframe tbody tr th {\n",
       "        vertical-align: top;\n",
       "    }\n",
       "\n",
       "    .dataframe thead th {\n",
       "        text-align: right;\n",
       "    }\n",
       "</style>\n",
       "<table border=\"1\" class=\"dataframe\">\n",
       "  <thead>\n",
       "    <tr style=\"text-align: right;\">\n",
       "      <th></th>\n",
       "      <th>Ability</th>\n",
       "      <th>Character_Class</th>\n",
       "      <th>Character_Level</th>\n",
       "      <th>Grenade</th>\n",
       "      <th>KDA</th>\n",
       "      <th>Lightlevel</th>\n",
       "      <th>Melee</th>\n",
       "      <th>Super</th>\n",
       "      <th>assists</th>\n",
       "      <th>avg_score_per_life</th>\n",
       "      <th>deaths</th>\n",
       "      <th>efficiency</th>\n",
       "      <th>kills</th>\n",
       "      <th>matchID</th>\n",
       "      <th>playersID</th>\n",
       "      <th>score</th>\n",
       "    </tr>\n",
       "  </thead>\n",
       "  <tbody>\n",
       "    <tr>\n",
       "      <th>0</th>\n",
       "      <td>0.0</td>\n",
       "      <td>Hunter</td>\n",
       "      <td>20</td>\n",
       "      <td>0.0</td>\n",
       "      <td>0.794118</td>\n",
       "      <td>270</td>\n",
       "      <td>1.0</td>\n",
       "      <td>0.0</td>\n",
       "      <td>13.0</td>\n",
       "      <td>1.111111</td>\n",
       "      <td>17.0</td>\n",
       "      <td>1.176471</td>\n",
       "      <td>7.0</td>\n",
       "      <td>151089348</td>\n",
       "      <td>2305843009261819479</td>\n",
       "      <td>20.0</td>\n",
       "    </tr>\n",
       "    <tr>\n",
       "      <th>1</th>\n",
       "      <td>0.0</td>\n",
       "      <td>Hunter</td>\n",
       "      <td>20</td>\n",
       "      <td>1.0</td>\n",
       "      <td>2.083333</td>\n",
       "      <td>270</td>\n",
       "      <td>2.0</td>\n",
       "      <td>0.0</td>\n",
       "      <td>4.0</td>\n",
       "      <td>2.076923</td>\n",
       "      <td>12.0</td>\n",
       "      <td>2.250000</td>\n",
       "      <td>23.0</td>\n",
       "      <td>151089348</td>\n",
       "      <td>2305843009262671233</td>\n",
       "      <td>27.0</td>\n",
       "    </tr>\n",
       "    <tr>\n",
       "      <th>2</th>\n",
       "      <td>0.0</td>\n",
       "      <td>Titan</td>\n",
       "      <td>12</td>\n",
       "      <td>0.0</td>\n",
       "      <td>0.833333</td>\n",
       "      <td>115</td>\n",
       "      <td>1.0</td>\n",
       "      <td>0.0</td>\n",
       "      <td>6.0</td>\n",
       "      <td>1.000000</td>\n",
       "      <td>12.0</td>\n",
       "      <td>1.083333</td>\n",
       "      <td>7.0</td>\n",
       "      <td>151089348</td>\n",
       "      <td>2305843009267511575</td>\n",
       "      <td>13.0</td>\n",
       "    </tr>\n",
       "    <tr>\n",
       "      <th>3</th>\n",
       "      <td>0.0</td>\n",
       "      <td>Warlock</td>\n",
       "      <td>20</td>\n",
       "      <td>0.0</td>\n",
       "      <td>0.923077</td>\n",
       "      <td>265</td>\n",
       "      <td>1.0</td>\n",
       "      <td>1.0</td>\n",
       "      <td>6.0</td>\n",
       "      <td>1.071429</td>\n",
       "      <td>13.0</td>\n",
       "      <td>1.153846</td>\n",
       "      <td>9.0</td>\n",
       "      <td>151089348</td>\n",
       "      <td>2305843009267512352</td>\n",
       "      <td>15.0</td>\n",
       "    </tr>\n",
       "    <tr>\n",
       "      <th>4</th>\n",
       "      <td>0.0</td>\n",
       "      <td>Warlock</td>\n",
       "      <td>20</td>\n",
       "      <td>0.0</td>\n",
       "      <td>2.083333</td>\n",
       "      <td>297</td>\n",
       "      <td>1.0</td>\n",
       "      <td>0.0</td>\n",
       "      <td>7.0</td>\n",
       "      <td>0.857143</td>\n",
       "      <td>6.0</td>\n",
       "      <td>2.666667</td>\n",
       "      <td>9.0</td>\n",
       "      <td>321966782</td>\n",
       "      <td>2305843009262426644</td>\n",
       "      <td>6.0</td>\n",
       "    </tr>\n",
       "  </tbody>\n",
       "</table>\n",
       "</div>"
      ],
      "text/plain": [
       "   Ability Character_Class  Character_Level  Grenade       KDA  Lightlevel  \\\n",
       "0      0.0          Hunter               20      0.0  0.794118         270   \n",
       "1      0.0          Hunter               20      1.0  2.083333         270   \n",
       "2      0.0           Titan               12      0.0  0.833333         115   \n",
       "3      0.0         Warlock               20      0.0  0.923077         265   \n",
       "4      0.0         Warlock               20      0.0  2.083333         297   \n",
       "\n",
       "   Melee  Super  assists  avg_score_per_life  deaths  efficiency  kills  \\\n",
       "0    1.0    0.0     13.0            1.111111    17.0    1.176471    7.0   \n",
       "1    2.0    0.0      4.0            2.076923    12.0    2.250000   23.0   \n",
       "2    1.0    0.0      6.0            1.000000    12.0    1.083333    7.0   \n",
       "3    1.0    1.0      6.0            1.071429    13.0    1.153846    9.0   \n",
       "4    1.0    0.0      7.0            0.857143     6.0    2.666667    9.0   \n",
       "\n",
       "     matchID            playersID  score  \n",
       "0  151089348  2305843009261819479   20.0  \n",
       "1  151089348  2305843009262671233   27.0  \n",
       "2  151089348  2305843009267511575   13.0  \n",
       "3  151089348  2305843009267512352   15.0  \n",
       "4  321966782  2305843009262426644    6.0  "
      ]
     },
     "execution_count": 15,
     "metadata": {},
     "output_type": "execute_result"
    }
   ],
   "source": [
    "sort_dt.head()"
   ]
  },
  {
   "cell_type": "code",
   "execution_count": 16,
   "metadata": {
    "collapsed": true
   },
   "outputs": [],
   "source": [
    "sort_dt.playersID = sort_dt.playersID.astype(str)"
   ]
  },
  {
   "cell_type": "code",
   "execution_count": 17,
   "metadata": {},
   "outputs": [
    {
     "data": {
      "text/html": [
       "<div>\n",
       "<style scoped>\n",
       "    .dataframe tbody tr th:only-of-type {\n",
       "        vertical-align: middle;\n",
       "    }\n",
       "\n",
       "    .dataframe tbody tr th {\n",
       "        vertical-align: top;\n",
       "    }\n",
       "\n",
       "    .dataframe thead th {\n",
       "        text-align: right;\n",
       "    }\n",
       "</style>\n",
       "<table border=\"1\" class=\"dataframe\">\n",
       "  <thead>\n",
       "    <tr style=\"text-align: right;\">\n",
       "      <th></th>\n",
       "      <th>Ability</th>\n",
       "      <th>Character_Class</th>\n",
       "      <th>Character_Level</th>\n",
       "      <th>Grenade</th>\n",
       "      <th>KDA</th>\n",
       "      <th>Lightlevel</th>\n",
       "      <th>Melee</th>\n",
       "      <th>Super</th>\n",
       "      <th>assists</th>\n",
       "      <th>avg_score_per_life</th>\n",
       "      <th>deaths</th>\n",
       "      <th>efficiency</th>\n",
       "      <th>kills</th>\n",
       "      <th>matchID</th>\n",
       "      <th>playersID</th>\n",
       "      <th>score</th>\n",
       "    </tr>\n",
       "  </thead>\n",
       "  <tbody>\n",
       "    <tr>\n",
       "      <th>0</th>\n",
       "      <td>0.0</td>\n",
       "      <td>Hunter</td>\n",
       "      <td>20</td>\n",
       "      <td>0.0</td>\n",
       "      <td>0.794118</td>\n",
       "      <td>270</td>\n",
       "      <td>1.0</td>\n",
       "      <td>0.0</td>\n",
       "      <td>13.0</td>\n",
       "      <td>1.111111</td>\n",
       "      <td>17.0</td>\n",
       "      <td>1.176471</td>\n",
       "      <td>7.0</td>\n",
       "      <td>151089348</td>\n",
       "      <td>2305843009261819479</td>\n",
       "      <td>20.0</td>\n",
       "    </tr>\n",
       "    <tr>\n",
       "      <th>1</th>\n",
       "      <td>0.0</td>\n",
       "      <td>Hunter</td>\n",
       "      <td>20</td>\n",
       "      <td>1.0</td>\n",
       "      <td>2.083333</td>\n",
       "      <td>270</td>\n",
       "      <td>2.0</td>\n",
       "      <td>0.0</td>\n",
       "      <td>4.0</td>\n",
       "      <td>2.076923</td>\n",
       "      <td>12.0</td>\n",
       "      <td>2.250000</td>\n",
       "      <td>23.0</td>\n",
       "      <td>151089348</td>\n",
       "      <td>2305843009262671233</td>\n",
       "      <td>27.0</td>\n",
       "    </tr>\n",
       "    <tr>\n",
       "      <th>2</th>\n",
       "      <td>0.0</td>\n",
       "      <td>Titan</td>\n",
       "      <td>12</td>\n",
       "      <td>0.0</td>\n",
       "      <td>0.833333</td>\n",
       "      <td>115</td>\n",
       "      <td>1.0</td>\n",
       "      <td>0.0</td>\n",
       "      <td>6.0</td>\n",
       "      <td>1.000000</td>\n",
       "      <td>12.0</td>\n",
       "      <td>1.083333</td>\n",
       "      <td>7.0</td>\n",
       "      <td>151089348</td>\n",
       "      <td>2305843009267511575</td>\n",
       "      <td>13.0</td>\n",
       "    </tr>\n",
       "    <tr>\n",
       "      <th>3</th>\n",
       "      <td>0.0</td>\n",
       "      <td>Warlock</td>\n",
       "      <td>20</td>\n",
       "      <td>0.0</td>\n",
       "      <td>0.923077</td>\n",
       "      <td>265</td>\n",
       "      <td>1.0</td>\n",
       "      <td>1.0</td>\n",
       "      <td>6.0</td>\n",
       "      <td>1.071429</td>\n",
       "      <td>13.0</td>\n",
       "      <td>1.153846</td>\n",
       "      <td>9.0</td>\n",
       "      <td>151089348</td>\n",
       "      <td>2305843009267512352</td>\n",
       "      <td>15.0</td>\n",
       "    </tr>\n",
       "    <tr>\n",
       "      <th>4</th>\n",
       "      <td>0.0</td>\n",
       "      <td>Warlock</td>\n",
       "      <td>20</td>\n",
       "      <td>0.0</td>\n",
       "      <td>2.083333</td>\n",
       "      <td>297</td>\n",
       "      <td>1.0</td>\n",
       "      <td>0.0</td>\n",
       "      <td>7.0</td>\n",
       "      <td>0.857143</td>\n",
       "      <td>6.0</td>\n",
       "      <td>2.666667</td>\n",
       "      <td>9.0</td>\n",
       "      <td>321966782</td>\n",
       "      <td>2305843009262426644</td>\n",
       "      <td>6.0</td>\n",
       "    </tr>\n",
       "  </tbody>\n",
       "</table>\n",
       "</div>"
      ],
      "text/plain": [
       "   Ability Character_Class  Character_Level  Grenade       KDA  Lightlevel  \\\n",
       "0      0.0          Hunter               20      0.0  0.794118         270   \n",
       "1      0.0          Hunter               20      1.0  2.083333         270   \n",
       "2      0.0           Titan               12      0.0  0.833333         115   \n",
       "3      0.0         Warlock               20      0.0  0.923077         265   \n",
       "4      0.0         Warlock               20      0.0  2.083333         297   \n",
       "\n",
       "   Melee  Super  assists  avg_score_per_life  deaths  efficiency  kills  \\\n",
       "0    1.0    0.0     13.0            1.111111    17.0    1.176471    7.0   \n",
       "1    2.0    0.0      4.0            2.076923    12.0    2.250000   23.0   \n",
       "2    1.0    0.0      6.0            1.000000    12.0    1.083333    7.0   \n",
       "3    1.0    1.0      6.0            1.071429    13.0    1.153846    9.0   \n",
       "4    1.0    0.0      7.0            0.857143     6.0    2.666667    9.0   \n",
       "\n",
       "     matchID            playersID  score  \n",
       "0  151089348  2305843009261819479   20.0  \n",
       "1  151089348  2305843009262671233   27.0  \n",
       "2  151089348  2305843009267511575   13.0  \n",
       "3  151089348  2305843009267512352   15.0  \n",
       "4  321966782  2305843009262426644    6.0  "
      ]
     },
     "execution_count": 17,
     "metadata": {},
     "output_type": "execute_result"
    }
   ],
   "source": [
    "sort_dt.head()"
   ]
  },
  {
   "cell_type": "code",
   "execution_count": 25,
   "metadata": {},
   "outputs": [
    {
     "data": {
      "text/html": [
       "<div>\n",
       "<style scoped>\n",
       "    .dataframe tbody tr th:only-of-type {\n",
       "        vertical-align: middle;\n",
       "    }\n",
       "\n",
       "    .dataframe tbody tr th {\n",
       "        vertical-align: top;\n",
       "    }\n",
       "\n",
       "    .dataframe thead th {\n",
       "        text-align: right;\n",
       "    }\n",
       "</style>\n",
       "<table border=\"1\" class=\"dataframe\">\n",
       "  <thead>\n",
       "    <tr style=\"text-align: right;\">\n",
       "      <th></th>\n",
       "      <th>matchID</th>\n",
       "      <th>playersID</th>\n",
       "    </tr>\n",
       "  </thead>\n",
       "  <tbody>\n",
       "    <tr>\n",
       "      <th>0</th>\n",
       "      <td>151089348</td>\n",
       "      <td>2305843009261819479230584300926267123323058430...</td>\n",
       "    </tr>\n",
       "    <tr>\n",
       "      <th>1</th>\n",
       "      <td>321966782</td>\n",
       "      <td>2305843009262426644230584300926255208423058430...</td>\n",
       "    </tr>\n",
       "    <tr>\n",
       "      <th>2</th>\n",
       "      <td>322134592</td>\n",
       "      <td>2305843009262896578230584300926416179323058430...</td>\n",
       "    </tr>\n",
       "    <tr>\n",
       "      <th>3</th>\n",
       "      <td>322284911</td>\n",
       "      <td>2305843009260404163230584300926171736023058430...</td>\n",
       "    </tr>\n",
       "    <tr>\n",
       "      <th>4</th>\n",
       "      <td>322667463</td>\n",
       "      <td>2305843009262426644230584300926255208423058430...</td>\n",
       "    </tr>\n",
       "  </tbody>\n",
       "</table>\n",
       "</div>"
      ],
      "text/plain": [
       "     matchID                                          playersID\n",
       "0  151089348  2305843009261819479230584300926267123323058430...\n",
       "1  321966782  2305843009262426644230584300926255208423058430...\n",
       "2  322134592  2305843009262896578230584300926416179323058430...\n",
       "3  322284911  2305843009260404163230584300926171736023058430...\n",
       "4  322667463  2305843009262426644230584300926255208423058430..."
      ]
     },
     "execution_count": 25,
     "metadata": {},
     "output_type": "execute_result"
    }
   ],
   "source": [
    "sample_team=sort_dt.groupby(by=\"matchID\").agg({\"playersID\":\"sum\"}).reset_index()\n",
    "sample_team.head()"
   ]
  },
  {
   "cell_type": "code",
   "execution_count": 26,
   "metadata": {},
   "outputs": [
    {
     "data": {
      "text/plain": [
       "4982"
      ]
     },
     "execution_count": 26,
     "metadata": {},
     "output_type": "execute_result"
    }
   ],
   "source": [
    "len(sample_team.matchID.unique())"
   ]
  },
  {
   "cell_type": "code",
   "execution_count": 27,
   "metadata": {},
   "outputs": [
    {
     "data": {
      "text/plain": [
       "3424"
      ]
     },
     "execution_count": 27,
     "metadata": {},
     "output_type": "execute_result"
    }
   ],
   "source": [
    "len(sample_team.playersID.unique())"
   ]
  },
  {
   "cell_type": "code",
   "execution_count": null,
   "metadata": {
    "collapsed": true
   },
   "outputs": [],
   "source": []
  },
  {
   "cell_type": "markdown",
   "metadata": {},
   "source": [
    "### Try to generate a full team list "
   ]
  },
  {
   "cell_type": "code",
   "execution_count": 29,
   "metadata": {},
   "outputs": [],
   "source": [
    "sort_table2=table2.sort_values([\"matchID\",\"playersID\"]).reset_index().drop(\"index\",axis=1)"
   ]
  },
  {
   "cell_type": "code",
   "execution_count": 30,
   "metadata": {},
   "outputs": [
    {
     "data": {
      "text/html": [
       "<div>\n",
       "<style scoped>\n",
       "    .dataframe tbody tr th:only-of-type {\n",
       "        vertical-align: middle;\n",
       "    }\n",
       "\n",
       "    .dataframe tbody tr th {\n",
       "        vertical-align: top;\n",
       "    }\n",
       "\n",
       "    .dataframe thead th {\n",
       "        text-align: right;\n",
       "    }\n",
       "</style>\n",
       "<table border=\"1\" class=\"dataframe\">\n",
       "  <thead>\n",
       "    <tr style=\"text-align: right;\">\n",
       "      <th></th>\n",
       "      <th>Ability</th>\n",
       "      <th>Character_Class</th>\n",
       "      <th>Character_Level</th>\n",
       "      <th>Grenade</th>\n",
       "      <th>KDA</th>\n",
       "      <th>Lightlevel</th>\n",
       "      <th>Melee</th>\n",
       "      <th>Super</th>\n",
       "      <th>assists</th>\n",
       "      <th>avg_score_per_life</th>\n",
       "      <th>deaths</th>\n",
       "      <th>efficiency</th>\n",
       "      <th>kills</th>\n",
       "      <th>matchID</th>\n",
       "      <th>playersID</th>\n",
       "      <th>score</th>\n",
       "    </tr>\n",
       "  </thead>\n",
       "  <tbody>\n",
       "    <tr>\n",
       "      <th>0</th>\n",
       "      <td>0.0</td>\n",
       "      <td>Titan</td>\n",
       "      <td>2</td>\n",
       "      <td>0.0</td>\n",
       "      <td>1.222222</td>\n",
       "      <td>21</td>\n",
       "      <td>0.0</td>\n",
       "      <td>0.0</td>\n",
       "      <td>2.0</td>\n",
       "      <td>2.000000</td>\n",
       "      <td>9.0</td>\n",
       "      <td>1.333333</td>\n",
       "      <td>10.0</td>\n",
       "      <td>9670133</td>\n",
       "      <td>2305843009262985436</td>\n",
       "      <td>20.0</td>\n",
       "    </tr>\n",
       "    <tr>\n",
       "      <th>1</th>\n",
       "      <td>0.0</td>\n",
       "      <td>Warlock</td>\n",
       "      <td>2</td>\n",
       "      <td>0.0</td>\n",
       "      <td>0.562500</td>\n",
       "      <td>297</td>\n",
       "      <td>0.0</td>\n",
       "      <td>2.0</td>\n",
       "      <td>6.0</td>\n",
       "      <td>1.000000</td>\n",
       "      <td>16.0</td>\n",
       "      <td>0.750000</td>\n",
       "      <td>6.0</td>\n",
       "      <td>9670133</td>\n",
       "      <td>2305843009263433983</td>\n",
       "      <td>17.0</td>\n",
       "    </tr>\n",
       "    <tr>\n",
       "      <th>2</th>\n",
       "      <td>0.0</td>\n",
       "      <td>Hunter</td>\n",
       "      <td>2</td>\n",
       "      <td>0.0</td>\n",
       "      <td>0.409091</td>\n",
       "      <td>22</td>\n",
       "      <td>0.0</td>\n",
       "      <td>0.0</td>\n",
       "      <td>1.0</td>\n",
       "      <td>0.916667</td>\n",
       "      <td>11.0</td>\n",
       "      <td>0.454545</td>\n",
       "      <td>4.0</td>\n",
       "      <td>9670133</td>\n",
       "      <td>2305843009264405328</td>\n",
       "      <td>11.0</td>\n",
       "    </tr>\n",
       "    <tr>\n",
       "      <th>3</th>\n",
       "      <td>0.0</td>\n",
       "      <td>Hunter</td>\n",
       "      <td>2</td>\n",
       "      <td>0.0</td>\n",
       "      <td>0.375000</td>\n",
       "      <td>22</td>\n",
       "      <td>0.0</td>\n",
       "      <td>1.0</td>\n",
       "      <td>0.0</td>\n",
       "      <td>0.823529</td>\n",
       "      <td>16.0</td>\n",
       "      <td>0.375000</td>\n",
       "      <td>6.0</td>\n",
       "      <td>9670133</td>\n",
       "      <td>2305843009265355378</td>\n",
       "      <td>14.0</td>\n",
       "    </tr>\n",
       "    <tr>\n",
       "      <th>4</th>\n",
       "      <td>0.0</td>\n",
       "      <td>Titan</td>\n",
       "      <td>3</td>\n",
       "      <td>0.0</td>\n",
       "      <td>1.312500</td>\n",
       "      <td>23</td>\n",
       "      <td>0.0</td>\n",
       "      <td>0.0</td>\n",
       "      <td>8.0</td>\n",
       "      <td>0.117647</td>\n",
       "      <td>16.0</td>\n",
       "      <td>1.562500</td>\n",
       "      <td>17.0</td>\n",
       "      <td>10553188</td>\n",
       "      <td>2305843009262985436</td>\n",
       "      <td>2.0</td>\n",
       "    </tr>\n",
       "  </tbody>\n",
       "</table>\n",
       "</div>"
      ],
      "text/plain": [
       "   Ability Character_Class  Character_Level  Grenade       KDA  Lightlevel  \\\n",
       "0      0.0           Titan                2      0.0  1.222222          21   \n",
       "1      0.0         Warlock                2      0.0  0.562500         297   \n",
       "2      0.0          Hunter                2      0.0  0.409091          22   \n",
       "3      0.0          Hunter                2      0.0  0.375000          22   \n",
       "4      0.0           Titan                3      0.0  1.312500          23   \n",
       "\n",
       "   Melee  Super  assists  avg_score_per_life  deaths  efficiency  kills  \\\n",
       "0    0.0    0.0      2.0            2.000000     9.0    1.333333   10.0   \n",
       "1    0.0    2.0      6.0            1.000000    16.0    0.750000    6.0   \n",
       "2    0.0    0.0      1.0            0.916667    11.0    0.454545    4.0   \n",
       "3    0.0    1.0      0.0            0.823529    16.0    0.375000    6.0   \n",
       "4    0.0    0.0      8.0            0.117647    16.0    1.562500   17.0   \n",
       "\n",
       "    matchID            playersID  score  \n",
       "0   9670133  2305843009262985436   20.0  \n",
       "1   9670133  2305843009263433983   17.0  \n",
       "2   9670133  2305843009264405328   11.0  \n",
       "3   9670133  2305843009265355378   14.0  \n",
       "4  10553188  2305843009262985436    2.0  "
      ]
     },
     "execution_count": 30,
     "metadata": {},
     "output_type": "execute_result"
    }
   ],
   "source": [
    "sort_table2.head()"
   ]
  },
  {
   "cell_type": "code",
   "execution_count": 31,
   "metadata": {
    "collapsed": true
   },
   "outputs": [],
   "source": [
    "sort_table2.playersID = sort_table2.playersID.astype(str)"
   ]
  },
  {
   "cell_type": "code",
   "execution_count": 32,
   "metadata": {},
   "outputs": [
    {
     "data": {
      "text/html": [
       "<div>\n",
       "<style scoped>\n",
       "    .dataframe tbody tr th:only-of-type {\n",
       "        vertical-align: middle;\n",
       "    }\n",
       "\n",
       "    .dataframe tbody tr th {\n",
       "        vertical-align: top;\n",
       "    }\n",
       "\n",
       "    .dataframe thead th {\n",
       "        text-align: right;\n",
       "    }\n",
       "</style>\n",
       "<table border=\"1\" class=\"dataframe\">\n",
       "  <thead>\n",
       "    <tr style=\"text-align: right;\">\n",
       "      <th></th>\n",
       "      <th>matchID</th>\n",
       "      <th>playersID</th>\n",
       "    </tr>\n",
       "  </thead>\n",
       "  <tbody>\n",
       "    <tr>\n",
       "      <th>0</th>\n",
       "      <td>9670133</td>\n",
       "      <td>2305843009262985436230584300926343398323058430...</td>\n",
       "    </tr>\n",
       "    <tr>\n",
       "      <th>1</th>\n",
       "      <td>10553188</td>\n",
       "      <td>2305843009262985436230584300926343398323058430...</td>\n",
       "    </tr>\n",
       "    <tr>\n",
       "      <th>2</th>\n",
       "      <td>28767658</td>\n",
       "      <td>2305843009261106631230584300926281695123058430...</td>\n",
       "    </tr>\n",
       "    <tr>\n",
       "      <th>3</th>\n",
       "      <td>42938381</td>\n",
       "      <td>2305843009260451213230584300926108825823058430...</td>\n",
       "    </tr>\n",
       "    <tr>\n",
       "      <th>4</th>\n",
       "      <td>45057385</td>\n",
       "      <td>2305843009263318286230584300926467788023058430...</td>\n",
       "    </tr>\n",
       "  </tbody>\n",
       "</table>\n",
       "</div>"
      ],
      "text/plain": [
       "    matchID                                          playersID\n",
       "0   9670133  2305843009262985436230584300926343398323058430...\n",
       "1  10553188  2305843009262985436230584300926343398323058430...\n",
       "2  28767658  2305843009261106631230584300926281695123058430...\n",
       "3  42938381  2305843009260451213230584300926108825823058430...\n",
       "4  45057385  2305843009263318286230584300926467788023058430..."
      ]
     },
     "execution_count": 32,
     "metadata": {},
     "output_type": "execute_result"
    }
   ],
   "source": [
    "teamid=sort_table2.groupby(by=\"matchID\").agg({\"playersID\":\"sum\"}).reset_index()\n",
    "teamid.head()"
   ]
  },
  {
   "cell_type": "code",
   "execution_count": 33,
   "metadata": {},
   "outputs": [
    {
     "name": "stdout",
     "output_type": "stream",
     "text": [
      "76717\n",
      "54081\n"
     ]
    }
   ],
   "source": [
    "print(len(teamid.matchID.unique()))\n",
    "print(len(teamid.playersID.unique()))"
   ]
  },
  {
   "cell_type": "code",
   "execution_count": 50,
   "metadata": {},
   "outputs": [],
   "source": [
    "count_list=teamid[\"playersID\"].value_counts()"
   ]
  },
  {
   "cell_type": "code",
   "execution_count": 51,
   "metadata": {},
   "outputs": [
    {
     "data": {
      "text/plain": [
       "54081"
      ]
     },
     "execution_count": 51,
     "metadata": {},
     "output_type": "execute_result"
    }
   ],
   "source": [
    "len(count_list)"
   ]
  },
  {
   "cell_type": "code",
   "execution_count": 55,
   "metadata": {},
   "outputs": [
    {
     "data": {
      "text/plain": [
       "1105"
      ]
     },
     "execution_count": 55,
     "metadata": {},
     "output_type": "execute_result"
    }
   ],
   "source": [
    "sum(count_list>5)"
   ]
  },
  {
   "cell_type": "code",
   "execution_count": 65,
   "metadata": {},
   "outputs": [
    {
     "data": {
      "text/html": [
       "<div>\n",
       "<style scoped>\n",
       "    .dataframe tbody tr th:only-of-type {\n",
       "        vertical-align: middle;\n",
       "    }\n",
       "\n",
       "    .dataframe tbody tr th {\n",
       "        vertical-align: top;\n",
       "    }\n",
       "\n",
       "    .dataframe thead th {\n",
       "        text-align: right;\n",
       "    }\n",
       "</style>\n",
       "<table border=\"1\" class=\"dataframe\">\n",
       "  <thead>\n",
       "    <tr style=\"text-align: right;\">\n",
       "      <th></th>\n",
       "      <th>teamid</th>\n",
       "      <th>team_counts</th>\n",
       "    </tr>\n",
       "  </thead>\n",
       "  <tbody>\n",
       "    <tr>\n",
       "      <th>0</th>\n",
       "      <td>2305843009263831955230584300926469132423058430...</td>\n",
       "      <td>16</td>\n",
       "    </tr>\n",
       "    <tr>\n",
       "      <th>1</th>\n",
       "      <td>2305843009260404781230584300926408879223058430...</td>\n",
       "      <td>16</td>\n",
       "    </tr>\n",
       "    <tr>\n",
       "      <th>2</th>\n",
       "      <td>2305843009266442867230584300926957830223058430...</td>\n",
       "      <td>16</td>\n",
       "    </tr>\n",
       "    <tr>\n",
       "      <th>3</th>\n",
       "      <td>2305843009261091921230584300926200371223058430...</td>\n",
       "      <td>15</td>\n",
       "    </tr>\n",
       "    <tr>\n",
       "      <th>4</th>\n",
       "      <td>2305843009261060319230584300926166251723058430...</td>\n",
       "      <td>15</td>\n",
       "    </tr>\n",
       "  </tbody>\n",
       "</table>\n",
       "</div>"
      ],
      "text/plain": [
       "                                              teamid  team_counts\n",
       "0  2305843009263831955230584300926469132423058430...           16\n",
       "1  2305843009260404781230584300926408879223058430...           16\n",
       "2  2305843009266442867230584300926957830223058430...           16\n",
       "3  2305843009261091921230584300926200371223058430...           15\n",
       "4  2305843009261060319230584300926166251723058430...           15"
      ]
     },
     "execution_count": 65,
     "metadata": {},
     "output_type": "execute_result"
    }
   ],
   "source": [
    "count_dt=pd.DataFrame(teamid[\"playersID\"].value_counts()).reset_index()\n",
    "count_dt.columns=['teamid', 'team_counts']\n",
    "count_dt.head()"
   ]
  },
  {
   "cell_type": "code",
   "execution_count": 67,
   "metadata": {},
   "outputs": [
    {
     "data": {
      "text/plain": [
       "<matplotlib.axes._subplots.AxesSubplot at 0x1367917f0>"
      ]
     },
     "execution_count": 67,
     "metadata": {},
     "output_type": "execute_result"
    },
    {
     "data": {
      "image/png": "[encoded data removed]",
      "text/plain": [
       "<Figure size 432x288 with 1 Axes>"
      ]
     },
     "metadata": {},
     "output_type": "display_data"
    }
   ],
   "source": [
    "sns.countplot(x=\"team_counts\", data=count_dt)"
   ]
  },
  {
   "cell_type": "code",
   "execution_count": 62,
   "metadata": {},
   "outputs": [
    {
     "data": {
      "text/plain": [
       "Index(['index', 'playersID'], dtype='object')"
      ]
     },
     "execution_count": 62,
     "metadata": {},
     "output_type": "execute_result"
    }
   ],
   "source": [
    "count_dt.columns"
   ]
  },
  {
   "cell_type": "code",
   "execution_count": 69,
   "metadata": {},
   "outputs": [
    {
     "data": {
      "text/plain": [
       "5091"
      ]
     },
     "execution_count": 69,
     "metadata": {},
     "output_type": "execute_result"
    }
   ],
   "source": [
    "#how many team who have played equal or more than three times?\n",
    "len(count_dt[count_dt[\"team_counts\"]>=3])"
   ]
  },
  {
   "cell_type": "markdown",
   "metadata": {},
   "source": [
    "### Generate a team id list with match id "
   ]
  },
  {
   "cell_type": "code",
   "execution_count": 71,
   "metadata": {},
   "outputs": [],
   "source": [
    "teamid.columns=[\"matchID\",\"teamID\"]"
   ]
  },
  {
   "cell_type": "code",
   "execution_count": 72,
   "metadata": {},
   "outputs": [
    {
     "data": {
      "text/html": [
       "<div>\n",
       "<style scoped>\n",
       "    .dataframe tbody tr th:only-of-type {\n",
       "        vertical-align: middle;\n",
       "    }\n",
       "\n",
       "    .dataframe tbody tr th {\n",
       "        vertical-align: top;\n",
       "    }\n",
       "\n",
       "    .dataframe thead th {\n",
       "        text-align: right;\n",
       "    }\n",
       "</style>\n",
       "<table border=\"1\" class=\"dataframe\">\n",
       "  <thead>\n",
       "    <tr style=\"text-align: right;\">\n",
       "      <th></th>\n",
       "      <th>matchID</th>\n",
       "      <th>teamID</th>\n",
       "    </tr>\n",
       "  </thead>\n",
       "  <tbody>\n",
       "    <tr>\n",
       "      <th>0</th>\n",
       "      <td>9670133</td>\n",
       "      <td>2305843009262985436230584300926343398323058430...</td>\n",
       "    </tr>\n",
       "    <tr>\n",
       "      <th>1</th>\n",
       "      <td>10553188</td>\n",
       "      <td>2305843009262985436230584300926343398323058430...</td>\n",
       "    </tr>\n",
       "    <tr>\n",
       "      <th>2</th>\n",
       "      <td>28767658</td>\n",
       "      <td>2305843009261106631230584300926281695123058430...</td>\n",
       "    </tr>\n",
       "    <tr>\n",
       "      <th>3</th>\n",
       "      <td>42938381</td>\n",
       "      <td>2305843009260451213230584300926108825823058430...</td>\n",
       "    </tr>\n",
       "    <tr>\n",
       "      <th>4</th>\n",
       "      <td>45057385</td>\n",
       "      <td>2305843009263318286230584300926467788023058430...</td>\n",
       "    </tr>\n",
       "  </tbody>\n",
       "</table>\n",
       "</div>"
      ],
      "text/plain": [
       "    matchID                                             teamID\n",
       "0   9670133  2305843009262985436230584300926343398323058430...\n",
       "1  10553188  2305843009262985436230584300926343398323058430...\n",
       "2  28767658  2305843009261106631230584300926281695123058430...\n",
       "3  42938381  2305843009260451213230584300926108825823058430...\n",
       "4  45057385  2305843009263318286230584300926467788023058430..."
      ]
     },
     "execution_count": 72,
     "metadata": {},
     "output_type": "execute_result"
    }
   ],
   "source": [
    "teamid.head()"
   ]
  },
  {
   "cell_type": "code",
   "execution_count": 74,
   "metadata": {},
   "outputs": [],
   "source": [
    "teamid.to_csv(\"teamid.csv\",index=False,)"
   ]
  },
  {
   "cell_type": "code",
   "execution_count": null,
   "metadata": {
    "collapsed": true
   },
   "outputs": [],
   "source": []
  }
 ],
 "metadata": {
  "kernelspec": {
   "display_name": "Python 3",
   "language": "python",
   "name": "python3"
  },
  "language_info": {
   "codemirror_mode": {
    "name": "ipython",
    "version": 3
   },
   "file_extension": ".py",
   "mimetype": "text/x-python",
   "name": "python",
   "nbconvert_exporter": "python",
   "pygments_lexer": "ipython3",
   "version": "3.6.4"
  }
 },
 "nbformat": 4,
 "nbformat_minor": 2
}

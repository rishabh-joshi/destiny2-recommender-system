{
 "cells": [
  {
   "cell_type": "markdown",
   "metadata": {},
   "source": [
    "# Creating Table 3\n",
    "## Loading Libraries and Reading Data\n",
    "\n",
    "Generating file T3.csv which contains Fire Team IDs for each Character ID."
   ]
  },
  {
   "cell_type": "code",
   "execution_count": 1,
   "metadata": {},
   "outputs": [],
   "source": [
    "import json\n",
    "import pandas as pd"
   ]
  },
  {
   "cell_type": "code",
   "execution_count": 2,
   "metadata": {},
   "outputs": [],
   "source": [
    "data = open(\"../data/PGCR_graph_dataset0.json\")\n",
    "data = json.load(data)"
   ]
  },
  {
   "cell_type": "code",
   "execution_count": 3,
   "metadata": {},
   "outputs": [],
   "source": [
    "data_copy = data"
   ]
  },
  {
   "cell_type": "markdown",
   "metadata": {},
   "source": [
    "## Exploring the structure of data"
   ]
  },
  {
   "cell_type": "code",
   "execution_count": 5,
   "metadata": {},
   "outputs": [
    {
     "data": {
      "text/plain": [
       "'2305843009268720704'"
      ]
     },
     "execution_count": 5,
     "metadata": {},
     "output_type": "execute_result"
    }
   ],
   "source": [
    "# Exploring the structure of data\n",
    "len(data) # 1003, is a list\n",
    "len(data[0]) # 25, is a list\n",
    "data[0][0][\"Response\"][\"entries\"][0][\"values\"][\"fireteamId\"][\"basic\"][\"value\"] # fire team ID\n",
    "data[0][0][\"Response\"][\"entries\"][0][\"characterId\"] # character ID"
   ]
  },
  {
   "cell_type": "code",
   "execution_count": 6,
   "metadata": {},
   "outputs": [],
   "source": [
    "# # game_set 386 has some issues\n",
    "# for i, game_set in enumerate(data):\n",
    "#     print(i)\n",
    "#     if i == 386 : continue\n",
    "#     for game_info in game_set:\n",
    "#         for player_info in game_info[\"Response\"][\"entries\"]:\n",
    "#             print(player_info[\"player\"][\"destinyUserInfo\"][\"membershipId\"])"
   ]
  },
  {
   "cell_type": "code",
   "execution_count": 7,
   "metadata": {},
   "outputs": [],
   "source": [
    "# removing the 386th element in data\n",
    "elem = data.pop(386)"
   ]
  },
  {
   "cell_type": "markdown",
   "metadata": {},
   "source": [
    "## Extracting `playerIDs` and `fireTeamIDs`"
   ]
  },
  {
   "cell_type": "code",
   "execution_count": 7,
   "metadata": {},
   "outputs": [
    {
     "ename": "KeyError",
     "evalue": "'Response'",
     "output_type": "error",
     "traceback": [
      "\u001b[1;31m---------------------------------------------------------------------------\u001b[0m",
      "\u001b[1;31mKeyError\u001b[0m                                  Traceback (most recent call last)",
      "\u001b[1;32m<ipython-input-7-0fc0fa93da49>\u001b[0m in \u001b[0;36m<module>\u001b[1;34m()\u001b[0m\n\u001b[1;32m----> 1\u001b[1;33m \u001b[0mplayerIDs\u001b[0m \u001b[1;33m=\u001b[0m \u001b[1;33m[\u001b[0m\u001b[0mplayer_info\u001b[0m\u001b[1;33m[\u001b[0m\u001b[1;34m\"characterId\"\u001b[0m\u001b[1;33m]\u001b[0m \u001b[1;32mfor\u001b[0m \u001b[0mgame_set\u001b[0m \u001b[1;32min\u001b[0m \u001b[0mdata\u001b[0m \u001b[1;32mfor\u001b[0m \u001b[0mgame_info\u001b[0m \u001b[1;32min\u001b[0m \u001b[0mgame_set\u001b[0m \u001b[1;32mfor\u001b[0m \u001b[0mplayer_info\u001b[0m \u001b[1;32min\u001b[0m \u001b[0mgame_info\u001b[0m\u001b[1;33m[\u001b[0m\u001b[1;34m\"Response\"\u001b[0m\u001b[1;33m]\u001b[0m\u001b[1;33m[\u001b[0m\u001b[1;34m\"entries\"\u001b[0m\u001b[1;33m]\u001b[0m\u001b[1;33m]\u001b[0m\u001b[1;33m\u001b[0m\u001b[0m\n\u001b[0m\u001b[0;32m      2\u001b[0m \u001b[0mlen\u001b[0m\u001b[1;33m(\u001b[0m\u001b[0mplayerIDs\u001b[0m\u001b[1;33m)\u001b[0m\u001b[1;33m\u001b[0m\u001b[0m\n",
      "\u001b[1;32m<ipython-input-7-0fc0fa93da49>\u001b[0m in \u001b[0;36m<listcomp>\u001b[1;34m(.0)\u001b[0m\n\u001b[1;32m----> 1\u001b[1;33m \u001b[0mplayerIDs\u001b[0m \u001b[1;33m=\u001b[0m \u001b[1;33m[\u001b[0m\u001b[0mplayer_info\u001b[0m\u001b[1;33m[\u001b[0m\u001b[1;34m\"characterId\"\u001b[0m\u001b[1;33m]\u001b[0m \u001b[1;32mfor\u001b[0m \u001b[0mgame_set\u001b[0m \u001b[1;32min\u001b[0m \u001b[0mdata\u001b[0m \u001b[1;32mfor\u001b[0m \u001b[0mgame_info\u001b[0m \u001b[1;32min\u001b[0m \u001b[0mgame_set\u001b[0m \u001b[1;32mfor\u001b[0m \u001b[0mplayer_info\u001b[0m \u001b[1;32min\u001b[0m \u001b[0mgame_info\u001b[0m\u001b[1;33m[\u001b[0m\u001b[1;34m\"Response\"\u001b[0m\u001b[1;33m]\u001b[0m\u001b[1;33m[\u001b[0m\u001b[1;34m\"entries\"\u001b[0m\u001b[1;33m]\u001b[0m\u001b[1;33m]\u001b[0m\u001b[1;33m\u001b[0m\u001b[0m\n\u001b[0m\u001b[0;32m      2\u001b[0m \u001b[0mlen\u001b[0m\u001b[1;33m(\u001b[0m\u001b[0mplayerIDs\u001b[0m\u001b[1;33m)\u001b[0m\u001b[1;33m\u001b[0m\u001b[0m\n",
      "\u001b[1;31mKeyError\u001b[0m: 'Response'"
     ]
    }
   ],
   "source": [
    "playerIDs = [player_info[\"player\"][\"destinyUserInfo\"][\"membershipId\"] for game_set in data for game_info in game_set for player_info in game_info[\"Response\"][\"entries\"]]\n",
    "len(playerIDs)"
   ]
  },
  {
   "cell_type": "code",
   "execution_count": 9,
   "metadata": {},
   "outputs": [
    {
     "data": {
      "text/plain": [
       "121645"
      ]
     },
     "execution_count": 9,
     "metadata": {},
     "output_type": "execute_result"
    }
   ],
   "source": [
    "fireTeamIDs = [player_info[\"values\"][\"fireteamId\"][\"basic\"][\"value\"] for game_set in data for game_info in game_set for player_info in game_info[\"Response\"][\"entries\"]]\n",
    "len(fireTeamIDs)"
   ]
  },
  {
   "cell_type": "markdown",
   "metadata": {},
   "source": [
    "## Creating the Data Frame"
   ]
  },
  {
   "cell_type": "code",
   "execution_count": 10,
   "metadata": {},
   "outputs": [
    {
     "data": {
      "text/html": [
       "<div>\n",
       "<style scoped>\n",
       "    .dataframe tbody tr th:only-of-type {\n",
       "        vertical-align: middle;\n",
       "    }\n",
       "\n",
       "    .dataframe tbody tr th {\n",
       "        vertical-align: top;\n",
       "    }\n",
       "\n",
       "    .dataframe thead th {\n",
       "        text-align: right;\n",
       "    }\n",
       "</style>\n",
       "<table border=\"1\" class=\"dataframe\">\n",
       "  <thead>\n",
       "    <tr style=\"text-align: right;\">\n",
       "      <th></th>\n",
       "      <th>fireTeamID</th>\n",
       "      <th>playerID</th>\n",
       "    </tr>\n",
       "  </thead>\n",
       "  <tbody>\n",
       "    <tr>\n",
       "      <th>0</th>\n",
       "      <td>-3.685548e+17</td>\n",
       "      <td>4611686018445743058</td>\n",
       "    </tr>\n",
       "    <tr>\n",
       "      <th>1</th>\n",
       "      <td>-2.245961e+18</td>\n",
       "      <td>4611686018445765559</td>\n",
       "    </tr>\n",
       "    <tr>\n",
       "      <th>2</th>\n",
       "      <td>-5.620820e+18</td>\n",
       "      <td>4611686018436434230</td>\n",
       "    </tr>\n",
       "    <tr>\n",
       "      <th>3</th>\n",
       "      <td>1.855335e+17</td>\n",
       "      <td>4611686018446767615</td>\n",
       "    </tr>\n",
       "    <tr>\n",
       "      <th>4</th>\n",
       "      <td>3.666009e+18</td>\n",
       "      <td>4611686018455684505</td>\n",
       "    </tr>\n",
       "  </tbody>\n",
       "</table>\n",
       "</div>"
      ],
      "text/plain": [
       "     fireTeamID             playerID\n",
       "0 -3.685548e+17  4611686018445743058\n",
       "1 -2.245961e+18  4611686018445765559\n",
       "2 -5.620820e+18  4611686018436434230\n",
       "3  1.855335e+17  4611686018446767615\n",
       "4  3.666009e+18  4611686018455684505"
      ]
     },
     "execution_count": 10,
     "metadata": {},
     "output_type": "execute_result"
    }
   ],
   "source": [
    "T3 = pd.DataFrame({\"fireTeamID\" : fireTeamIDs, \"playerID\" : playerIDs})\n",
    "T3.head()"
   ]
  },
  {
   "cell_type": "markdown",
   "metadata": {},
   "source": [
    "## What is wrong with elem 386?"
   ]
  },
  {
   "cell_type": "markdown",
   "metadata": {},
   "source": [
    "Using the for loop to investigate the problem, we found that `elem[4]` had some issues."
   ]
  },
  {
   "cell_type": "code",
   "execution_count": 11,
   "metadata": {},
   "outputs": [
    {
     "name": "stdout",
     "output_type": "stream",
     "text": [
      "0\n",
      "1.600697195277455e+18\n",
      "-6.348326376293105e+18\n",
      "-6.494090189096198e+18\n",
      "1.1028136067465902e+17\n",
      "6.345618395897744e+18\n",
      "7.292249995381676e+18\n",
      "6.345618395897744e+18\n",
      "6.345618395897744e+18\n",
      "1\n",
      "-6.784968767515582e+18\n",
      "-6.494090189096198e+18\n",
      "-6.54366773945844e+18\n",
      "8.045228988200403e+18\n",
      "-5.741375587544479e+18\n",
      "2.5781988903164544e+18\n",
      "-7.396708596824929e+18\n",
      "4.173493896829916e+18\n",
      "2\n",
      "7.475683580473355e+18\n",
      "-1.7666294348954877e+17\n",
      "2.4083941538884538e+17\n",
      "-6.899599156010211e+18\n",
      "-7.170965067668722e+18\n",
      "-6.494090189096198e+18\n",
      "-2.70978892716923e+18\n",
      "2.4083941538884538e+17\n",
      "3\n",
      "7.35842355099692e+18\n",
      "4.819254210965579e+18\n",
      "6.919517908570447e+18\n",
      "1.8524873921183473e+18\n",
      "-1.6663537611408812e+18\n",
      "-6.494090189096198e+18\n",
      "2.0248044766801326e+18\n",
      "-2.075682527226918e+18\n",
      "-4.410787300159699e+18\n",
      "4\n"
     ]
    },
    {
     "ename": "KeyError",
     "evalue": "'Response'",
     "output_type": "error",
     "traceback": [
      "\u001b[1;31m---------------------------------------------------------------------------\u001b[0m",
      "\u001b[1;31mKeyError\u001b[0m                                  Traceback (most recent call last)",
      "\u001b[1;32m<ipython-input-11-1cc359fdfc9a>\u001b[0m in \u001b[0;36m<module>\u001b[1;34m()\u001b[0m\n\u001b[0;32m      3\u001b[0m \u001b[1;32mfor\u001b[0m \u001b[0mi\u001b[0m\u001b[1;33m,\u001b[0m \u001b[0mgame_info\u001b[0m \u001b[1;32min\u001b[0m \u001b[0menumerate\u001b[0m\u001b[1;33m(\u001b[0m\u001b[0melem\u001b[0m\u001b[1;33m)\u001b[0m\u001b[1;33m:\u001b[0m\u001b[1;33m\u001b[0m\u001b[0m\n\u001b[0;32m      4\u001b[0m     \u001b[0mprint\u001b[0m\u001b[1;33m(\u001b[0m\u001b[0mi\u001b[0m\u001b[1;33m)\u001b[0m\u001b[1;33m\u001b[0m\u001b[0m\n\u001b[1;32m----> 5\u001b[1;33m     \u001b[1;32mfor\u001b[0m \u001b[0mplayer_info\u001b[0m \u001b[1;32min\u001b[0m \u001b[0mgame_info\u001b[0m\u001b[1;33m[\u001b[0m\u001b[1;34m\"Response\"\u001b[0m\u001b[1;33m]\u001b[0m\u001b[1;33m[\u001b[0m\u001b[1;34m\"entries\"\u001b[0m\u001b[1;33m]\u001b[0m\u001b[1;33m:\u001b[0m\u001b[1;33m\u001b[0m\u001b[0m\n\u001b[0m\u001b[0;32m      6\u001b[0m         \u001b[0mprint\u001b[0m\u001b[1;33m(\u001b[0m\u001b[0mplayer_info\u001b[0m\u001b[1;33m[\u001b[0m\u001b[1;34m\"values\"\u001b[0m\u001b[1;33m]\u001b[0m\u001b[1;33m[\u001b[0m\u001b[1;34m\"fireteamId\"\u001b[0m\u001b[1;33m]\u001b[0m\u001b[1;33m[\u001b[0m\u001b[1;34m\"basic\"\u001b[0m\u001b[1;33m]\u001b[0m\u001b[1;33m[\u001b[0m\u001b[1;34m\"value\"\u001b[0m\u001b[1;33m]\u001b[0m\u001b[1;33m)\u001b[0m\u001b[1;33m\u001b[0m\u001b[0m\n",
      "\u001b[1;31mKeyError\u001b[0m: 'Response'"
     ]
    }
   ],
   "source": [
    "len(elem)\n",
    "\n",
    "for i, game_info in enumerate(elem):\n",
    "    print(i)\n",
    "    for player_info in game_info[\"Response\"][\"entries\"]:\n",
    "        print(player_info[\"values\"][\"fireteamId\"][\"basic\"][\"value\"])"
   ]
  },
  {
   "cell_type": "markdown",
   "metadata": {},
   "source": [
    "`elem[4]` has non unit `ErrorCode`."
   ]
  },
  {
   "cell_type": "code",
   "execution_count": 12,
   "metadata": {},
   "outputs": [
    {
     "data": {
      "text/plain": [
       "{'ErrorCode': 1618,\n",
       " 'ErrorStatus': 'DestinyUnexpectedError',\n",
       " 'Message': \"An unexpected error has occurred on Bungie's servers while trying to grab Destiny information.\",\n",
       " 'MessageData': {},\n",
       " 'ThrottleSeconds': 0}"
      ]
     },
     "execution_count": 12,
     "metadata": {},
     "output_type": "execute_result"
    }
   ],
   "source": [
    "elem[4]"
   ]
  },
  {
   "cell_type": "markdown",
   "metadata": {},
   "source": [
    "Clearly, we also need to consider the value of the `ErrorCode` before extracting the information to avoid such errors."
   ]
  },
  {
   "cell_type": "markdown",
   "metadata": {},
   "source": [
    "## Modifying the extraction code"
   ]
  },
  {
   "cell_type": "code",
   "execution_count": 8,
   "metadata": {},
   "outputs": [],
   "source": [
    "data = data_copy"
   ]
  },
  {
   "cell_type": "code",
   "execution_count": 9,
   "metadata": {},
   "outputs": [
    {
     "data": {
      "text/plain": [
       "121744"
      ]
     },
     "execution_count": 9,
     "metadata": {},
     "output_type": "execute_result"
    }
   ],
   "source": [
    "playerIDs = [player_info[\"characterId\"] for game_set in data for game_info in game_set if game_info[\"ErrorCode\"] == 1 for player_info in game_info[\"Response\"][\"entries\"]]\n",
    "len(playerIDs)"
   ]
  },
  {
   "cell_type": "code",
   "execution_count": 10,
   "metadata": {},
   "outputs": [
    {
     "data": {
      "text/plain": [
       "121744"
      ]
     },
     "execution_count": 10,
     "metadata": {},
     "output_type": "execute_result"
    }
   ],
   "source": [
    "fireTeamIDs = [player_info[\"values\"][\"fireteamId\"][\"basic\"][\"value\"] for game_set in data for game_info in game_set if game_info[\"ErrorCode\"] == 1 for player_info in game_info[\"Response\"][\"entries\"]]\n",
    "len(fireTeamIDs)"
   ]
  },
  {
   "cell_type": "code",
   "execution_count": 11,
   "metadata": {},
   "outputs": [
    {
     "data": {
      "text/html": [
       "<div>\n",
       "<style scoped>\n",
       "    .dataframe tbody tr th:only-of-type {\n",
       "        vertical-align: middle;\n",
       "    }\n",
       "\n",
       "    .dataframe tbody tr th {\n",
       "        vertical-align: top;\n",
       "    }\n",
       "\n",
       "    .dataframe thead th {\n",
       "        text-align: right;\n",
       "    }\n",
       "</style>\n",
       "<table border=\"1\" class=\"dataframe\">\n",
       "  <thead>\n",
       "    <tr style=\"text-align: right;\">\n",
       "      <th></th>\n",
       "      <th>fireTeamID</th>\n",
       "      <th>playerID</th>\n",
       "    </tr>\n",
       "  </thead>\n",
       "  <tbody>\n",
       "    <tr>\n",
       "      <th>0</th>\n",
       "      <td>-3.685548e+17</td>\n",
       "      <td>2305843009268720704</td>\n",
       "    </tr>\n",
       "    <tr>\n",
       "      <th>1</th>\n",
       "      <td>-2.245961e+18</td>\n",
       "      <td>2305843009265606963</td>\n",
       "    </tr>\n",
       "    <tr>\n",
       "      <th>2</th>\n",
       "      <td>-5.620820e+18</td>\n",
       "      <td>2305843009262752454</td>\n",
       "    </tr>\n",
       "    <tr>\n",
       "      <th>3</th>\n",
       "      <td>1.855335e+17</td>\n",
       "      <td>2305843009261639164</td>\n",
       "    </tr>\n",
       "    <tr>\n",
       "      <th>4</th>\n",
       "      <td>3.666009e+18</td>\n",
       "      <td>2305843009265034294</td>\n",
       "    </tr>\n",
       "  </tbody>\n",
       "</table>\n",
       "</div>"
      ],
      "text/plain": [
       "     fireTeamID             playerID\n",
       "0 -3.685548e+17  2305843009268720704\n",
       "1 -2.245961e+18  2305843009265606963\n",
       "2 -5.620820e+18  2305843009262752454\n",
       "3  1.855335e+17  2305843009261639164\n",
       "4  3.666009e+18  2305843009265034294"
      ]
     },
     "execution_count": 11,
     "metadata": {},
     "output_type": "execute_result"
    }
   ],
   "source": [
    "T3 = pd.DataFrame({\"fireTeamID\" : fireTeamIDs, \"playerID\" : playerIDs})\n",
    "T3.head()"
   ]
  },
  {
   "cell_type": "code",
   "execution_count": 12,
   "metadata": {},
   "outputs": [],
   "source": [
    "T3.to_csv(\"T3.csv\", index = False)"
   ]
  },
  {
   "cell_type": "code",
   "execution_count": 13,
   "metadata": {},
   "outputs": [
    {
     "data": {
      "text/plain": [
       "-3.685548012425789e+17"
      ]
     },
     "execution_count": 13,
     "metadata": {},
     "output_type": "execute_result"
    }
   ],
   "source": [
    "fireTeamIDs[0]"
   ]
  }
 ],
 "metadata": {
  "kernelspec": {
   "display_name": "Python 3",
   "language": "python",
   "name": "python3"
  },
  "language_info": {
   "codemirror_mode": {
    "name": "ipython",
    "version": 3
   },
   "file_extension": ".py",
   "mimetype": "text/x-python",
   "name": "python",
   "nbconvert_exporter": "python",
   "pygments_lexer": "ipython3",
   "version": "3.6.4"
  }
 },
 "nbformat": 4,
 "nbformat_minor": 2
}

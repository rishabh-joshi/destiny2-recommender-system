{
 "cells": [
  {
   "cell_type": "markdown",
   "metadata": {},
   "source": [
    "## Creating Table 6\n",
    "\n",
    "### Table 6 (Match ID, Date, Time)"
   ]
  },
  {
   "cell_type": "markdown",
   "metadata": {},
   "source": [
    "### Loading libraries and data"
   ]
  },
  {
   "cell_type": "code",
   "execution_count": 7,
   "metadata": {},
   "outputs": [],
   "source": [
    "import json\n",
    "import pandas as pd\n",
    "import re\n",
    "data = open(\"../data/PGCR_graph_dataset0.json\")\n",
    "data = json.load(data)\n",
    "data_copy = data"
   ]
  },
  {
   "cell_type": "markdown",
   "metadata": {},
   "source": [
    "### Exploration"
   ]
  },
  {
   "cell_type": "code",
   "execution_count": 4,
   "metadata": {},
   "outputs": [
    {
     "data": {
      "text/plain": [
       "'1464059692'"
      ]
     },
     "execution_count": 4,
     "metadata": {},
     "output_type": "execute_result"
    }
   ],
   "source": [
    "# match ID\n",
    "data[0][0][\"Response\"][\"activityDetails\"][\"instanceId\"]"
   ]
  },
  {
   "cell_type": "code",
   "execution_count": 13,
   "metadata": {},
   "outputs": [
    {
     "name": "stdout",
     "output_type": "stream",
     "text": [
      "2018-02-03T17:58:49Z\n",
      "['2018-02-03', '17:58:49']\n"
     ]
    }
   ],
   "source": [
    "# Time Stamp\n",
    "print(data[0][0][\"Response\"][\"period\"])\n",
    "print(re.split(\"T|Z\", data[0][0][\"Response\"][\"period\"])[:2])"
   ]
  },
  {
   "cell_type": "markdown",
   "metadata": {},
   "source": [
    "## Match IDs"
   ]
  },
  {
   "cell_type": "code",
   "execution_count": 14,
   "metadata": {},
   "outputs": [],
   "source": [
    "MatchIDs = [game_info[\"Response\"][\"activityDetails\"][\"instanceId\"] for game_set in data for game_info in game_set if game_info[\"ErrorCode\"] == 1]"
   ]
  },
  {
   "cell_type": "code",
   "execution_count": 17,
   "metadata": {},
   "outputs": [
    {
     "name": "stdout",
     "output_type": "stream",
     "text": [
      "23547\n",
      "['1464059692', '1464033979', '1464007124', '1463974712', '1463949433', '1463900221', '1463871731', '1460179191', '1460159758', '1460139868']\n"
     ]
    }
   ],
   "source": [
    "print(len(MatchIDs))\n",
    "print(MatchIDs[:10])"
   ]
  },
  {
   "cell_type": "markdown",
   "metadata": {},
   "source": [
    "## Time Stamp"
   ]
  },
  {
   "cell_type": "code",
   "execution_count": 18,
   "metadata": {},
   "outputs": [],
   "source": [
    "TimeStamp = [game_info[\"Response\"][\"period\"] for game_set in data for game_info in game_set if game_info[\"ErrorCode\"] == 1]"
   ]
  },
  {
   "cell_type": "code",
   "execution_count": 19,
   "metadata": {},
   "outputs": [
    {
     "name": "stdout",
     "output_type": "stream",
     "text": [
      "23547\n",
      "['2018-02-03T17:58:49Z', '2018-02-03T17:48:07Z', '2018-02-03T17:37:21Z', '2018-02-03T17:23:28Z', '2018-02-03T17:13:43Z', '2018-02-03T16:52:41Z', '2018-02-03T16:41:52Z', '2018-02-02T01:19:12Z', '2018-02-02T01:08:28Z', '2018-02-02T00:57:50Z']\n"
     ]
    }
   ],
   "source": [
    "print(len(TimeStamp))\n",
    "print(TimeStamp[:10])"
   ]
  },
  {
   "cell_type": "markdown",
   "metadata": {},
   "source": [
    "### Date"
   ]
  },
  {
   "cell_type": "code",
   "execution_count": 20,
   "metadata": {},
   "outputs": [],
   "source": [
    "Date = [re.split(\"T|Z\", ts)[0] for ts in TimeStamp]"
   ]
  },
  {
   "cell_type": "code",
   "execution_count": 21,
   "metadata": {},
   "outputs": [
    {
     "name": "stdout",
     "output_type": "stream",
     "text": [
      "23547\n",
      "['2018-02-03', '2018-02-03', '2018-02-03', '2018-02-03', '2018-02-03', '2018-02-03', '2018-02-03', '2018-02-02', '2018-02-02', '2018-02-02']\n"
     ]
    }
   ],
   "source": [
    "print(len(Date))\n",
    "print(Date[:10])"
   ]
  },
  {
   "cell_type": "markdown",
   "metadata": {},
   "source": [
    "### Time"
   ]
  },
  {
   "cell_type": "code",
   "execution_count": 22,
   "metadata": {},
   "outputs": [],
   "source": [
    "Time = [re.split(\"T|Z\", ts)[1] for ts in TimeStamp]"
   ]
  },
  {
   "cell_type": "code",
   "execution_count": 23,
   "metadata": {},
   "outputs": [
    {
     "name": "stdout",
     "output_type": "stream",
     "text": [
      "23547\n",
      "['17:58:49', '17:48:07', '17:37:21', '17:23:28', '17:13:43', '16:52:41', '16:41:52', '01:19:12', '01:08:28', '00:57:50']\n"
     ]
    }
   ],
   "source": [
    "print(len(Time))\n",
    "print(Time[:10])"
   ]
  },
  {
   "cell_type": "markdown",
   "metadata": {},
   "source": [
    "## Combining into data frame and writing to csv"
   ]
  },
  {
   "cell_type": "code",
   "execution_count": 24,
   "metadata": {},
   "outputs": [
    {
     "data": {
      "text/html": [
       "<div>\n",
       "<style scoped>\n",
       "    .dataframe tbody tr th:only-of-type {\n",
       "        vertical-align: middle;\n",
       "    }\n",
       "\n",
       "    .dataframe tbody tr th {\n",
       "        vertical-align: top;\n",
       "    }\n",
       "\n",
       "    .dataframe thead th {\n",
       "        text-align: right;\n",
       "    }\n",
       "</style>\n",
       "<table border=\"1\" class=\"dataframe\">\n",
       "  <thead>\n",
       "    <tr style=\"text-align: right;\">\n",
       "      <th></th>\n",
       "      <th>Date</th>\n",
       "      <th>MatchID</th>\n",
       "      <th>Time</th>\n",
       "    </tr>\n",
       "  </thead>\n",
       "  <tbody>\n",
       "    <tr>\n",
       "      <th>0</th>\n",
       "      <td>2018-02-03</td>\n",
       "      <td>1464059692</td>\n",
       "      <td>17:58:49</td>\n",
       "    </tr>\n",
       "    <tr>\n",
       "      <th>1</th>\n",
       "      <td>2018-02-03</td>\n",
       "      <td>1464033979</td>\n",
       "      <td>17:48:07</td>\n",
       "    </tr>\n",
       "    <tr>\n",
       "      <th>2</th>\n",
       "      <td>2018-02-03</td>\n",
       "      <td>1464007124</td>\n",
       "      <td>17:37:21</td>\n",
       "    </tr>\n",
       "    <tr>\n",
       "      <th>3</th>\n",
       "      <td>2018-02-03</td>\n",
       "      <td>1463974712</td>\n",
       "      <td>17:23:28</td>\n",
       "    </tr>\n",
       "    <tr>\n",
       "      <th>4</th>\n",
       "      <td>2018-02-03</td>\n",
       "      <td>1463949433</td>\n",
       "      <td>17:13:43</td>\n",
       "    </tr>\n",
       "  </tbody>\n",
       "</table>\n",
       "</div>"
      ],
      "text/plain": [
       "         Date     MatchID      Time\n",
       "0  2018-02-03  1464059692  17:58:49\n",
       "1  2018-02-03  1464033979  17:48:07\n",
       "2  2018-02-03  1464007124  17:37:21\n",
       "3  2018-02-03  1463974712  17:23:28\n",
       "4  2018-02-03  1463949433  17:13:43"
      ]
     },
     "execution_count": 24,
     "metadata": {},
     "output_type": "execute_result"
    }
   ],
   "source": [
    "T6 = pd.DataFrame({\"MatchID\" : MatchIDs, \"Date\" : Date, \"Time\" : Time})\n",
    "T6.head()"
   ]
  },
  {
   "cell_type": "code",
   "execution_count": 26,
   "metadata": {},
   "outputs": [
    {
     "name": "stdout",
     "output_type": "stream",
     "text": [
      "(23547, 3)\n"
     ]
    }
   ],
   "source": [
    "print(T6.shape)\n",
    "T6.to_csv(\"data_table/table6.csv\", index = False)"
   ]
  }
 ],
 "metadata": {
  "kernelspec": {
   "display_name": "Python 3",
   "language": "python",
   "name": "python3"
  },
  "language_info": {
   "codemirror_mode": {
    "name": "ipython",
    "version": 3
   },
   "file_extension": ".py",
   "mimetype": "text/x-python",
   "name": "python",
   "nbconvert_exporter": "python",
   "pygments_lexer": "ipython3",
   "version": "3.6.4"
  }
 },
 "nbformat": 4,
 "nbformat_minor": 2
}

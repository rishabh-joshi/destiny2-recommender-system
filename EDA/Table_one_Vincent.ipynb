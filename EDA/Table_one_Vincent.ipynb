{
 "cells": [
  {
   "cell_type": "code",
   "execution_count": 1,
   "metadata": {
    "collapsed": true
   },
   "outputs": [],
   "source": [
    "import json\n",
    "import pandas as pd\n",
    "import pprint\n",
    "from itertools import chain"
   ]
  },
  {
   "cell_type": "code",
   "execution_count": 2,
   "metadata": {
    "collapsed": true
   },
   "outputs": [],
   "source": [
    "with open('PGCR_graph_dataset0.json') as json_file: #\"Data/Destiny2_allPvP_matches/PGCR_graph_dataset0.json\n",
    "    match_data0 = json.load(json_file)"
   ]
  },
  {
   "cell_type": "code",
   "execution_count": 3,
   "metadata": {
    "collapsed": true
   },
   "outputs": [],
   "source": [
    "match_data = list(chain.from_iterable(match_data0))"
   ]
  },
  {
   "cell_type": "code",
   "execution_count": 4,
   "metadata": {},
   "outputs": [
    {
     "data": {
      "text/plain": [
       "6"
      ]
     },
     "execution_count": 4,
     "metadata": {},
     "output_type": "execute_result"
    }
   ],
   "source": [
    "len(match_data[0].keys())"
   ]
  },
  {
   "cell_type": "code",
   "execution_count": 5,
   "metadata": {},
   "outputs": [
    {
     "data": {
      "text/plain": [
       "23548"
      ]
     },
     "execution_count": 5,
     "metadata": {},
     "output_type": "execute_result"
    }
   ],
   "source": [
    "len(match_data)"
   ]
  },
  {
   "cell_type": "code",
   "execution_count": 6,
   "metadata": {},
   "outputs": [
    {
     "data": {
      "text/plain": [
       "23547"
      ]
     },
     "execution_count": 6,
     "metadata": {},
     "output_type": "execute_result"
    }
   ],
   "source": [
    "#drop the empty matches\n",
    "for i in range(len(match_data)-1):\n",
    "    if len(match_data[i].keys()) != 6:\n",
    "        del match_data[i]\n",
    "len(match_data)"
   ]
  },
  {
   "cell_type": "code",
   "execution_count": 8,
   "metadata": {},
   "outputs": [
    {
     "data": {
      "text/plain": [
       "23547"
      ]
     },
     "execution_count": 8,
     "metadata": {},
     "output_type": "execute_result"
    }
   ],
   "source": [
    "ids = dict()\n",
    "fireteamids = dict()\n",
    "i = 0\n",
    "for mtch in match_data:\n",
    "    ids[i] = []\n",
    "    fireteamids[i] = []\n",
    "    for player in mtch[\"Response\"][\"entries\"]:\n",
    "        fireteamids[i].append(player[\"values\"][\"fireteamId\"][\"basic\"][\"value\"])\n",
    "        ids[i].append(player[\"characterId\"])\n",
    "    i = i+1\n",
    "    \n",
    "len(ids)\n",
    "len(fireteamids)"
   ]
  },
  {
   "cell_type": "code",
   "execution_count": 9,
   "metadata": {},
   "outputs": [
    {
     "name": "stdout",
     "output_type": "stream",
     "text": [
      "62641\n"
     ]
    }
   ],
   "source": [
    "full_list = [teamids for j in fireteamids for teamids in fireteamids[j]]\n",
    "print(len(set(full_list))) #Total number of fireteamids across all matches - includes repeated 0s for no fireteam"
   ]
  },
  {
   "cell_type": "code",
   "execution_count": 10,
   "metadata": {},
   "outputs": [
    {
     "data": {
      "text/plain": [
       "8830"
      ]
     },
     "execution_count": 10,
     "metadata": {},
     "output_type": "execute_result"
    }
   ],
   "source": [
    "v = list(fireteamids.values())\n",
    "final = list() ###create an empty list for new subset of match_data\n",
    "for j in range(len(v)):\n",
    "    if len(v[j]) == 8:\n",
    "        final.append(match_data[j])\n",
    "\n",
    "len(final)"
   ]
  },
  {
   "cell_type": "code",
   "execution_count": 11,
   "metadata": {},
   "outputs": [
    {
     "data": {
      "text/plain": [
       "3325"
      ]
     },
     "execution_count": 11,
     "metadata": {},
     "output_type": "execute_result"
    }
   ],
   "source": [
    "match_data_copy = []\n",
    "### filter the match with at least one of the team with all players in same fireteam\n",
    "for match in final:\n",
    "    team0 = []\n",
    "    team1 = []\n",
    "    for player in match['Response']['entries']:\n",
    "        if(player['standing']==0):\n",
    "            team0.append(player['values'])\n",
    "        elif(player['standing']==1):\n",
    "            team1.append(player['values'])\n",
    "    flag= 0\n",
    "    if all(item['fireteamId']['basic']['value'] == team0[0]['fireteamId']['basic']['value'] for item in team0):\n",
    "        flag = 0;\n",
    "    else :\n",
    "        flag += 1;\n",
    "    if all(item['fireteamId']['basic']['value'] == team1[0]['fireteamId']['basic']['value'] for item in team1):\n",
    "        flag = 0;\n",
    "    else :\n",
    "        flag += 1;\n",
    "    \n",
    "    if flag == 0:\n",
    "        match_data_copy.append(match)\n",
    "len(match_data_copy)"
   ]
  },
  {
   "cell_type": "code",
   "execution_count": 12,
   "metadata": {
    "collapsed": true
   },
   "outputs": [],
   "source": [
    "matchid = []\n",
    "team_id = []\n",
    "standing = []\n",
    "teamscore= []\n",
    "mode = []\n"
   ]
  },
  {
   "cell_type": "code",
   "execution_count": 13,
   "metadata": {
    "collapsed": true
   },
   "outputs": [],
   "source": [
    "for match in match_data_copy:\n",
    "    match_id = match['Response']['activityDetails'].get('instanceId')\n",
    "    mode_id = match['Response']['activityDetails'].get('mode')\n",
    "    for i in range(8):\n",
    "        matchid.append(match_id)\n",
    "        mode.append(mode_id)\n"
   ]
  },
  {
   "cell_type": "code",
   "execution_count": 14,
   "metadata": {
    "collapsed": true
   },
   "outputs": [],
   "source": [
    "for match in match_data_copy:\n",
    "    for player in match['Response']['entries']:\n",
    "            \n",
    "        if 'team' in player['values'].keys():\n",
    "            team_id.append(player['values']['team']['basic']['value']) \n",
    "        else:\n",
    "            team_id.append('NA')\n",
    "             \n",
    "        if 'standing' in player['values'].keys():\n",
    "            standing.append(player['values']['standing']['basic']['value']) \n",
    "        else:\n",
    "            standing.append('NA')\n",
    "            \n",
    "        if 'teamScore' in player['values'].keys():\n",
    "            teamscore.append(player['values']['teamScore']['basic']['value']) \n",
    "        else:\n",
    "            teamscore.append('NA')\n",
    "            "
   ]
  },
  {
   "cell_type": "code",
   "execution_count": 15,
   "metadata": {
    "collapsed": true
   },
   "outputs": [],
   "source": [
    "table3 = pd.DataFrame(\n",
    "    {'matchID': matchid,\n",
    "     'team_id': team_id,\n",
    "     'standing':standing,\n",
    "     'teamscore':teamscore,\n",
    "     'mode':mode\n",
    "    })\n",
    "\n",
    "#table3.describe()"
   ]
  },
  {
   "cell_type": "code",
   "execution_count": 16,
   "metadata": {},
   "outputs": [
    {
     "data": {
      "text/html": [
       "<div>\n",
       "<style>\n",
       "    .dataframe thead tr:only-child th {\n",
       "        text-align: right;\n",
       "    }\n",
       "\n",
       "    .dataframe thead th {\n",
       "        text-align: left;\n",
       "    }\n",
       "\n",
       "    .dataframe tbody tr th {\n",
       "        vertical-align: top;\n",
       "    }\n",
       "</style>\n",
       "<table border=\"1\" class=\"dataframe\">\n",
       "  <thead>\n",
       "    <tr style=\"text-align: right;\">\n",
       "      <th></th>\n",
       "      <th>matchID</th>\n",
       "      <th>mode</th>\n",
       "      <th>standing</th>\n",
       "      <th>team_id</th>\n",
       "      <th>teamscore</th>\n",
       "    </tr>\n",
       "  </thead>\n",
       "  <tbody>\n",
       "    <tr>\n",
       "      <th>0</th>\n",
       "      <td>1459943405</td>\n",
       "      <td>43</td>\n",
       "      <td>0</td>\n",
       "      <td>16</td>\n",
       "      <td>91.0</td>\n",
       "    </tr>\n",
       "    <tr>\n",
       "      <th>1</th>\n",
       "      <td>1459943405</td>\n",
       "      <td>43</td>\n",
       "      <td>1</td>\n",
       "      <td>17</td>\n",
       "      <td>70.0</td>\n",
       "    </tr>\n",
       "    <tr>\n",
       "      <th>2</th>\n",
       "      <td>1459943405</td>\n",
       "      <td>43</td>\n",
       "      <td>0</td>\n",
       "      <td>16</td>\n",
       "      <td>91.0</td>\n",
       "    </tr>\n",
       "    <tr>\n",
       "      <th>3</th>\n",
       "      <td>1459943405</td>\n",
       "      <td>43</td>\n",
       "      <td>1</td>\n",
       "      <td>17</td>\n",
       "      <td>70.0</td>\n",
       "    </tr>\n",
       "    <tr>\n",
       "      <th>4</th>\n",
       "      <td>1459943405</td>\n",
       "      <td>43</td>\n",
       "      <td>0</td>\n",
       "      <td>16</td>\n",
       "      <td>91.0</td>\n",
       "    </tr>\n",
       "  </tbody>\n",
       "</table>\n",
       "</div>"
      ],
      "text/plain": [
       "      matchID  mode standing team_id  teamscore\n",
       "0  1459943405    43        0      16       91.0\n",
       "1  1459943405    43        1      17       70.0\n",
       "2  1459943405    43        0      16       91.0\n",
       "3  1459943405    43        1      17       70.0\n",
       "4  1459943405    43        0      16       91.0"
      ]
     },
     "execution_count": 16,
     "metadata": {},
     "output_type": "execute_result"
    }
   ],
   "source": [
    "table3.head()"
   ]
  },
  {
   "cell_type": "code",
   "execution_count": null,
   "metadata": {
    "collapsed": true
   },
   "outputs": [],
   "source": []
  }
 ],
 "metadata": {
  "kernelspec": {
   "display_name": "Python 3",
   "language": "python",
   "name": "python3"
  },
  "language_info": {
   "codemirror_mode": {
    "name": "ipython",
    "version": 3
   },
   "file_extension": ".py",
   "mimetype": "text/x-python",
   "name": "python",
   "nbconvert_exporter": "python",
   "pygments_lexer": "ipython3",
   "version": "3.6.3"
  }
 },
 "nbformat": 4,
 "nbformat_minor": 2
}

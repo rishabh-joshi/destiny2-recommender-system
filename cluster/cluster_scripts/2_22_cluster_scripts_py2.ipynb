{
 "cells": [
  {
   "cell_type": "code",
   "execution_count": 2,
   "metadata": {},
   "outputs": [],
   "source": [
    "import numpy as np\n",
    "from py_pcha.PCHA import PCHA\n",
    "import pandas as pd"
   ]
  },
  {
   "cell_type": "code",
   "execution_count": 3,
   "metadata": {},
   "outputs": [],
   "source": [
    "import pandas as pd\n",
    "import numpy as np\n",
    "from sklearn.preprocessing import scale\n",
    "from sklearn.preprocessing import minmax_scale\n",
    "from sklearn.preprocessing import MinMaxScaler\n",
    "from sklearn import preprocessing\n",
    "from sklearn.preprocessing import scale\n",
    "from sklearn import mixture\n",
    "from sklearn.cluster import KMeans"
   ]
  },
  {
   "cell_type": "code",
   "execution_count": 5,
   "metadata": {},
   "outputs": [],
   "source": [
    "def my_scaler(x):\n",
    "    \"\"\"standardize the predictors\"\"\"\n",
    "    \n",
    "    new_x = pd.DataFrame(scale(x, axis=0, with_mean=True, with_std=True, copy=True))\n",
    "    new_x.columns = x.columns\n",
    "    \n",
    "    return new_x\n",
    "\n",
    "def my_normal(x):\n",
    "    \"\"\"normalize the predictors\"\"\"\n",
    "    \n",
    "    scaler = MinMaxScaler() \n",
    "    scaled_values = scaler.fit_transform(x)\n",
    "    new_x = pd.DataFrame(scaled_values)\n",
    "    new_x.columns = x.columns\n",
    "\n",
    "    return new_x"
   ]
  },
  {
   "cell_type": "code",
   "execution_count": 6,
   "metadata": {},
   "outputs": [],
   "source": [
    "final_cluster_clean_id=pd.read_csv(\"final_cluster_clean_5_10.csv\")\n",
    "final_cluster_clean=final_cluster_clean_id.drop([\"playersID\",\"teamID\"],axis=1)"
   ]
  },
  {
   "cell_type": "code",
   "execution_count": 9,
   "metadata": {},
   "outputs": [],
   "source": [
    "def cluster(dt,cluster_content,scale, cluster_number, cluster_method):\n",
    "    player_feature_df=dt\n",
    "    performance_cluster=[]\n",
    "    weapon_cluster=[]\n",
    "    \n",
    "    if scale==\"MinMax\":\n",
    "        min_max_scaler = preprocessing.MinMaxScaler()\n",
    "        player_feature_df = my_normal(player_feature_df)\n",
    "        \n",
    "    if scale==\"Standardization\":\n",
    "        player_feature_df = my_scaler(player_feature_df)\n",
    "            \n",
    "    if cluster_content==\"performance\":\n",
    "        cluster_dt=player_feature_df[['Ability', 'Grenade', 'Melee','Super', 'assists']]\n",
    "        \n",
    "    if cluster_content==\"weapon\":\n",
    "        cluster_dt=player_feature_df[['Pro Auto Rifle',\n",
    "                                      'Pro Fusion Rifle', 'Pro Grenade Launcher', 'Pro Hand Cannon',\n",
    "                                      'Pro Linear Fusion Rifle', 'Pro Pulse Rifle', 'Pro Rocket Launcher',\n",
    "                                      'Pro Scout Rifle', 'Pro Shotgun', 'Pro Sidearm', 'Pro Sniper Rifle',\n",
    "                                      'Pro Submachine Gun', 'Pro Sword', 'Pro Trace Rifle']]   \n",
    "        \n",
    "    if cluster_method==\"GMM\":\n",
    "        clf = mixture.GaussianMixture(n_components=cluster_number, covariance_type='full')\n",
    "        clf.fit(cluster_dt)\n",
    "        cluster_dt = cluster_dt.copy()\n",
    "        if cluster_content==\"performance\":\n",
    "            performance_cluster = clf.predict(cluster_dt)\n",
    "        if cluster_content==\"weapon\":\n",
    "            weapon_cluster = clf.predict(cluster_dt) \n",
    "            \n",
    "    if cluster_method==\"KMeans\":\n",
    "        model = KMeans(n_clusters=cluster_number, n_init=30)\n",
    "        model.fit(cluster_dt)\n",
    "        cluster_dt = cluster_dt.copy()\n",
    "        if cluster_content==\"performance\":\n",
    "            performance_cluster = model.predict(cluster_dt)\n",
    "        if cluster_content==\"weapon\":\n",
    "            weapon_cluster = model.predict(cluster_dt)        \n",
    "            \n",
    "    if cluster_method==\"AA\":\n",
    "        cluster_matrix = cluster_dt.as_matrix()\n",
    "        XC, S, C, SSE, varexpl = PCHA(cluster_matrix, noc=cluster_number, delta=0.1)\n",
    "        XC_df=pd.DataFrame(XC)\n",
    "        if cluster_content==\"performance\":\n",
    "            performance_cluster = XC_df.idxmax(axis=1)\n",
    "        if cluster_content==\"weapon\":\n",
    "            weapon_cluster = XC_df.idxmax(axis=1)       \n",
    "            \n",
    "    return performance_cluster,weapon_cluster\n",
    "        "
   ]
  },
  {
   "cell_type": "code",
   "execution_count": 15,
   "metadata": {},
   "outputs": [
    {
     "data": {
      "text/plain": [
       "(array([3, 3, 3, ..., 3, 3, 2]), [])"
      ]
     },
     "execution_count": 15,
     "metadata": {},
     "output_type": "execute_result"
    }
   ],
   "source": [
    "cluster(dt=final_cluster_clean,cluster_content=\"performance\",scale=\"MinMax\", cluster_number=4, cluster_method=\"GMM\")"
   ]
  },
  {
   "cell_type": "code",
   "execution_count": null,
   "metadata": {},
   "outputs": [],
   "source": []
  },
  {
   "cell_type": "code",
   "execution_count": null,
   "metadata": {},
   "outputs": [],
   "source": []
  }
 ],
 "metadata": {
  "kernelspec": {
   "display_name": "python_new_2",
   "language": "python",
   "name": "python_new_2"
  },
  "language_info": {
   "codemirror_mode": {
    "name": "ipython",
    "version": 2
   },
   "file_extension": ".py",
   "mimetype": "text/x-python",
   "name": "python",
   "nbconvert_exporter": "python",
   "pygments_lexer": "ipython2",
   "version": "2.7.15"
  }
 },
 "nbformat": 4,
 "nbformat_minor": 2
}
